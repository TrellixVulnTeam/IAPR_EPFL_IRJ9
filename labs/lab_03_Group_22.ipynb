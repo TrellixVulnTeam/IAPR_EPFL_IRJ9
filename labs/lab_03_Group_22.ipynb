{
 "cells": [
  {
   "cell_type": "markdown",
   "metadata": {},
   "source": [
    "# [IAPR][iapr]: Lab 3 ‒  Classification\n",
    "\n",
    "\n",
    "**Group ID:** 22\n",
    "\n",
    "**Author 1 (sciper):** Alexander Pisarewski (269689)  \n",
    "**Author 2 (sciper):** Guillaume Champain (261737)   \n",
    "**Author 3 (sciper):** Adrien AMOROS (322927)   \n",
    "\n",
    "**Release date:** 23.04.2021 \n",
    "**Due date:** 07.05.2021 \n",
    "\n",
    "\n",
    "## Important notes\n",
    "\n",
    "The lab assignments are designed to teach practical implementation of the topics presented during class well as preparation for the final project, which is a practical project which ties together the topics of the course. \n",
    "\n",
    "As such, in the lab assignments/final project, unless otherwise specified, you may, if you choose, use external functions from image processing/ML libraries like opencv and sklearn as long as there is sufficient explanation in the lab report. For example, you do not need to implement your own edge detector, etc.\n",
    "\n",
    "**! Before handling back the notebook !** rerun the notebook from scratch `Kernel` > `Restart & Run All`\n",
    "\n",
    "\n",
    "[iapr]: https://github.com/LTS5/iapr"
   ]
  },
  {
   "cell_type": "markdown",
   "metadata": {},
   "source": [
    "## Extract relevant data\n",
    "We first need to extract the `lab-03-data.tar.gz` archive.\n",
    "To this end, we use the [tarfile] module from the Python standard library.\n",
    "\n",
    "[tarfile]: https://docs.python.org/3.6/library/tarfile.html"
   ]
  },
  {
   "cell_type": "code",
   "execution_count": 9,
   "metadata": {},
   "outputs": [],
   "source": [
    "import tarfile\n",
    "import os\n",
    "\n",
    "data_base_path = os.path.join(os.pardir, 'data')\n",
    "data_folder = 'lab-03-data'\n",
    "tar_path = os.path.join(data_base_path, data_folder + '.tar.gz')\n",
    "with tarfile.open(tar_path, mode='r:gz') as tar:\n",
    "    tar.extractall(path=data_base_path)"
   ]
  },
  {
   "cell_type": "markdown",
   "metadata": {},
   "source": [
    "---\n",
    "## Part 1\n",
    "In this part, we will study classification based on the data available in the Matlab file `classification.mat` that you will under `lab-03-data/part1`.\n",
    "There are 3 data sets in this file, each one being a training set for a given class.\n",
    "They are contained in variables `a`, `b` and `c`.\n",
    "\n",
    "**Note**: we can load Matlab files using the [scipy.io] module.\n",
    "\n",
    "[scipy.io]: https://docs.scipy.org/doc/scipy/reference/io.html"
   ]
  },
  {
   "cell_type": "code",
   "execution_count": 10,
   "metadata": {},
   "outputs": [
    {
     "output_type": "stream",
     "name": "stdout",
     "text": [
      "(200, 2) (200, 2) (200, 2)\n"
     ]
    }
   ],
   "source": [
    "import scipy.io\n",
    "import matplotlib.pyplot as plt\n",
    "import numpy as np\n",
    "from scipy import  optimize\n",
    "\n",
    "data_part1_path = os.path.join(data_base_path, data_folder, 'part1', 'classification.mat')\n",
    "matfile = scipy.io.loadmat(data_part1_path)\n",
    "a = matfile['a']\n",
    "b = matfile['b']\n",
    "c = matfile['c']\n",
    "\n",
    "print(a.shape, b.shape, c.shape)"
   ]
  },
  {
   "cell_type": "markdown",
   "metadata": {},
   "source": [
    "### 1.1 Bayes method (5 pts)\n",
    "Using the Bayes method, give the analytical expression of the separation curves between those three classes.\n",
    "Do reasonable hypotheses about the distributions of those classes and estimate the corresponding parameters based on the given training sets.\n",
    "Draw those curves on a plot, together with the training data.\n",
    "For simplicity reasons, round the estimated parameters to the closest integer value."
   ]
  },
  {
   "cell_type": "markdown",
   "metadata": {},
   "source": [
    "#### Discussion\n",
    "The Bayes method consists in classifying several classes by using multi-dimensional Gaussian law. A discriminant function is thus used for all of the classes. In order to find the separation betweem two classes, the discriminant functions are used pairwise : the lines separating the classes are the points where the probability to be in one class or the other is the same. Each discriminant function is given as  :\n",
    "$$ g_i(x) = -\\frac{1}{2}(x-\\mu)^T \\Sigma^{-1}_i (x-\\mu_i) + \\ln P(w_i) + c_i$$\n",
    "And the separation curves between two classes i and j as $ g_i(x)-g_j(x)$.\n",
    "The classes here having the same number of samples, the $\\ln P(w_i)$ term cancels out when doing the substraction. The constant term $c_i$is taken to be $c_{i} = log(\\frac{1}{2\\pi |\\Sigma_i|^{1/2}}) $\n",
    "The mean values and covariances are hence found from the three given datasets, and a function is created that returns for one y-coordinate, its corresponding x-coordinate where the equation of the separation curve cancels.\n",
    "A vector is hence created taking a grid of values that fits all the dataset inside.\n",
    "Two plots are created : one with the three complete curves separating every pair of datasets, and one with the three curves the three datasets in a \"cleaner\" fashion."
   ]
  },
  {
   "cell_type": "code",
   "execution_count": 11,
   "metadata": {},
   "outputs": [
    {
     "output_type": "error",
     "ename": "IndentationError",
     "evalue": "unexpected indent (<ipython-input-11-7b7e776bbda3>, line 23)",
     "traceback": [
      "\u001b[0;36m  File \u001b[0;32m\"<ipython-input-11-7b7e776bbda3>\"\u001b[0;36m, line \u001b[0;32m23\u001b[0m\n\u001b[0;31m    vec=np.array([x,x_1]).T\u001b[0m\n\u001b[0m    ^\u001b[0m\n\u001b[0;31mIndentationError\u001b[0m\u001b[0;31m:\u001b[0m unexpected indent\n"
     ]
    }
   ],
   "source": [
    "#Calculate means and covariances\n",
    "mean_a=np.mean(a,axis=0)\n",
    "cov_a=np.cov(a,rowvar=False)\n",
    "\n",
    "mean_b=np.mean(b,axis=0)\n",
    "cov_b=np.cov(b,rowvar=False)\n",
    "\n",
    "mean_c=np.mean(c,axis=0)\n",
    "cov_c=np.cov(c,rowvar=False)\n",
    "\n",
    "\n",
    "def g(x,x_1,mean1,cov1,mean2,cov2):\n",
    "    \"\"\"\n",
    "        Function that returns the root of the separation curve equation, for 1 point\n",
    "        Arguments :\n",
    "        - x : variable of the equation\n",
    "        - x1 : point at which we find the root\n",
    "        - mean1 : mean of the first dataset\n",
    "        - cov1 : covariance of the first dataset\n",
    "        - mean2 : mean of the second dataset\n",
    "        - cov2 : covariance of the second dataset\n",
    "    \"\"\"\n",
    "    vec=np.array([x,x_1]).T\n",
    "    const1 =np.log(1/(2*np.pi*np.linalg.det(cov1)**0.5))\n",
    "    const2 =np.log(1/(2*np.pi*np.linalg.det(cov2)**0.5))\n",
    "    res=-0.5*(vec-mean1)@np.linalg.inv(cov1)@(vec-mean1).T-(-0.5*(vec-mean2)@np.linalg.inv(cov2)@(vec-mean2).T) + const1-const2\n",
    "    return res\n",
    "\n",
    "\n",
    "#Initialization of the roots vector\n",
    "roots1=[]\n",
    "roots2=[]\n",
    "roots3=[]\n",
    "\n",
    "# Grid defined for roots finding\n",
    "y_range=np.arange(-7,7,0.1)\n",
    "for x_1 in y_range :\n",
    "    result1=optimize.fsolve(g,x0=0,args=(x_1,mean_a,cov_a,mean_b,cov_b))\n",
    "    result2=optimize.fsolve(g,x0=0,args=(x_1,mean_b,cov_b,mean_c,cov_c))\n",
    "    result3=optimize.fsolve(g,x0=0,args=(x_1,mean_a,cov_a,mean_c,cov_c))\n",
    "    roots1=np.append(roots1,result1)\n",
    "    roots2=np.append(roots2,result2)\n",
    "    roots3=np.append(roots3,result3)\n",
    "\n",
    "\n",
    "idx=(np.where(abs(roots1-roots2)<1))\n",
    "idx=idx[0][0]+1\n",
    "\n",
    "\n",
    "#Plotting\n",
    "fig, ax = plt.subplots(1,2,figsize=(12,7))\n",
    "ax[0].scatter(a[:,0],a[:,1],label='a')\n",
    "ax[0].scatter(b[:,0],b[:,1],label='b')\n",
    "ax[0].scatter(c[:,0],c[:,1],label='c')\n",
    "ax[0].plot(roots1[:idx],y_range[:idx],color='yellow',label='g_a-g_b')\n",
    "ax[0].plot(roots2[idx:],y_range[idx:],color='grey',label='g_b-g_c')\n",
    "ax[0].plot(roots3[:idx],y_range[:idx],color='pink',label='g_a-g_c')\n",
    "ax[0].set_xlim([-15 ,15])\n",
    "ax[0].set_ylim([-7 ,7])\n",
    "ax[0].set_title('Three classes dataset with separation curves')\n",
    "ax[0].legend(loc='lower right')\n",
    "\n",
    "ax[1].scatter(a[:,0],a[:,1],label='a')\n",
    "ax[1].scatter(b[:,0],b[:,1],label='b')\n",
    "ax[1].scatter(c[:,0],c[:,1],label='c')\n",
    "ax[1].plot(roots1,y_range,color='yellow',label='g_a-g_b')\n",
    "ax[1].plot(roots2,y_range,color='grey',label='g_b-g_c')\n",
    "ax[1].plot(roots3,y_range,color='pink',label='g_a-g_c')\n",
    "ax[1].set_xlim([-15 ,15])\n",
    "ax[1].set_ylim([-7 ,7])\n",
    "ax[1].set_title('Three classes dataset with full separation curves')\n",
    "ax[1].legend(loc='lower right')\n"
   ]
  },
  {
   "cell_type": "markdown",
   "metadata": {},
   "source": [
    "### 1.2 Mahalanobis distance (5 pts)\n",
    "For classes `a` and `b`, give the expression of the Mahalanobis distance used to classify a point in class `a` or `b`, and verify the obtained classification, in comparison with the \"complete\" Bayes classification, for a few points of the plane."
   ]
  },
  {
   "cell_type": "markdown",
   "metadata": {},
   "source": [
    "#### Explanation of classification by Mahalanobis distance\n",
    "\n",
    "In a second time, to take multivariate variable into account, we will use the Mahalanobis distance to classify a point in class a or b.\n",
    "Mahalonobis distance is the distance between a point and a distribution. And not between two distinct points. It is effectively a multivariate equivalent of the Euclidean distance. Its analytical expression is :\n",
    "$$\n",
    "d_{m} = \\sqrt{(x- \\mu_{i})\\Sigma^{-1}(x- \\mu_{i})}\n",
    "$$\n",
    "Where $x$ is the vector of the observation, $\\mu_{i}$ is the vector of mean values of the distribution and $\\Sigma^{-1}$ is the inverse covariance matrix of the distribution.\n",
    "\n",
    "Firstly, to split the plane through class a and b we created a meshgrid of the region of interest. Knowing that the\n",
    "most probable class is the one that maximizes the discriminant function $g_i(x)$ , it means minimizes the Mahalanobis distance, we selected the shortest distance computed between distribution a and b for each point of the plane.\n",
    "Afterwards, we plotted the separation line obtained from our plane classification.\n",
    "\n",
    "\n"
   ]
  },
  {
   "cell_type": "code",
   "execution_count": 4,
   "metadata": {
    "scrolled": false
   },
   "outputs": [
    {
     "data": {
      "text/plain": [
       "<matplotlib.legend.Legend at 0x232b28d83a0>"
      ]
     },
     "execution_count": 4,
     "metadata": {},
     "output_type": "execute_result"
    },
    {
     "data": {
      "image/png": "[encoded data removed]",
      "text/plain": [
       "<Figure size 576x576 with 1 Axes>"
      ]
     },
     "metadata": {
      "needs_background": "light"
     },
     "output_type": "display_data"
    }
   ],
   "source": [
    "# Add your implementation and discussion\n",
    "import matplotlib.pyplot as plt\n",
    "import numpy as np\n",
    "\n",
    "#We can assume data distribustions as gaussian distribution\n",
    "\n",
    "#Function to compute the Mahalanobis Distance between each row of x and the data  \n",
    "def mahalanobis(x, data, cov=None):\n",
    "    \"\"\"\n",
    "    x    : vector or matrix of data\n",
    "    data : ndarray of the distribution from which Mahalanobis distance of each observation of x is to be computed.\n",
    "    cov  : covariance matrix (p x p) of the distribution. If None, will be computed from data.\n",
    "    \"\"\"\n",
    "    x_minus_mu = x - np.mean(data,axis=0)\n",
    "    if not cov:\n",
    "        cov = np.cov(data,rowvar=False)\n",
    "    inv_covmat = np.linalg.inv(cov)\n",
    "    left_term = np.dot(x_minus_mu, inv_covmat)\n",
    "    mahal_square = np.dot(left_term, x_minus_mu)\n",
    "    mahal = np.sqrt(mahal_square)\n",
    "    return mahal\n",
    "\n",
    "data_2=np.vstack([a,b])\n",
    "\n",
    "x_min = data_2[:,0].min()\n",
    "x_max = data_2[:,0].max()\n",
    "y_min = data_2[:,1].min()\n",
    "y_max = data_2[:,1].max()\n",
    "\n",
    "# Create meshgrid of interest space\n",
    "length_mesh = 200\n",
    "xx, yy = np.meshgrid(np.linspace(x_min , x_max, length_mesh),np.linspace(y_min, y_max, length_mesh))\n",
    "\n",
    "result = []\n",
    "\n",
    "#the most probable class is the one that minimizes the Mahalanobis distance\n",
    "for x,y in zip(np.sort(xx.ravel()),np.sort(yy.ravel())) :\n",
    "    distance_a = mahalanobis([x,y],a)\n",
    "    distance_b = mahalanobis([x,y],b)\n",
    "    result.append(np.minimum(distance_a,distance_b))\n",
    "\n",
    "\n",
    "x_range = np.linspace(x_min , x_max, length_mesh**2)\n",
    "# Plotting of the two classes\n",
    "fig, ax = plt.subplots(1,1,figsize=(8,8))\n",
    "ax.scatter(a[:,0],a[:,1],label='a')\n",
    "ax.scatter(b[:,0],b[:,1],label='b')\n",
    "ax.plot(x_range,result,color='red')\n",
    "ax.set_title('Classification by Mahalanobis distance')\n",
    "ax.legend(loc='lower right')"
   ]
  },
  {
   "cell_type": "markdown",
   "metadata": {},
   "source": [
    "#### Outcomes differences between two classification methods\n",
    "\n",
    "In the cell below, we tested if the classifications among the two methods used previously lead to the same outcome.\n",
    "For the \"traditional\" Bayes method we will compare the discriminant functions of distribution a and b. According to $g_a-g_b$ sign on can link the random point to class a or b.\n",
    "For the classification thanks to Mahalabonis distance, we assigned a point to a class where its distance to the latter class is smaller than the other.\n",
    "\n",
    "For some random points (10) of the plane, we can note the same result regardless of classification methods. But if we increase the number of test vectors, we will obtain a little difference between the 2 methods but not substantially relevant."
   ]
  },
  {
   "cell_type": "code",
   "execution_count": 5,
   "metadata": {},
   "outputs": [
    {
     "name": "stdout",
     "output_type": "stream",
     "text": [
      "10 random testing vectors: [[-5, -4], [6, 4], [5, -5], [-8, 2], [-1, -1], [17, 3], [7, -2], [3, -2], [8, 6], [6, 2]]\n",
      "Classification using the \"complete\" Bayes method =  ['a', 'b', 'a', 'a', 'a', 'b', 'a', 'a', 'b', 'b']\n",
      "Classification using Mahalanobis distance =  ['a', 'b', 'a', 'a', 'a', 'b', 'a', 'a', 'b', 'b']\n",
      "Difference of classification under 10000 random points = 17\n"
     ]
    }
   ],
   "source": [
    "import random\n",
    "\n",
    "# Check the difference in classification of some random points between traditionnal \"Bayes method\" and \"Mahalanobis distance\"\n",
    "\n",
    "def classification_vectors(rand_vectors) :\n",
    "    Bayes_classification = []\n",
    "    for i in rand_vectors:\n",
    "        result_sub = g(i[0],i[1],mean_a,cov_a,mean_b,cov_b)\n",
    "        if (result_sub < 0):\n",
    "            Bayes_classification.append('b')\n",
    "        elif (result_sub > 0):\n",
    "            Bayes_classification.append('a')\n",
    "        else:\n",
    "            Bayes_classification.append('NC')\n",
    "        \n",
    "    Mahalanobis_classification = []\n",
    "    for i in rand_vectors:\n",
    "        distance_a = mahalanobis(i,a)\n",
    "        distance_b = mahalanobis(i,b)\n",
    "        if (distance_a > distance_b):\n",
    "            Mahalanobis_classification.append('b')\n",
    "        elif (distance_a < distance_b):\n",
    "            Mahalanobis_classification.append('a')\n",
    "        else:\n",
    "            Mahalanobis_classification.append('NC')\n",
    "    \n",
    "    return Bayes_classification, Mahalanobis_classification\n",
    "\n",
    "random.seed(3)\n",
    "points_numb_test = 10\n",
    "x_rand_test = [random.randint(-12,17) for x in range(points_numb_test)]\n",
    "y_rand_test = [random.randint(-5,7) for x in range(points_numb_test)]\n",
    "rand_vectors_test = [[x,y] for x,y in zip(x_rand_test,y_rand_test)]\n",
    "\n",
    "Bayes_classification_test, Mahalanobis_classification_test = classification_vectors(rand_vectors_test)\n",
    "\n",
    "print('10 random testing vectors:' ,rand_vectors_test)\n",
    "print('Classification using the \"complete\" Bayes method = ',Bayes_classification_test)\n",
    "print('Classification using Mahalanobis distance = ',Mahalanobis_classification_test)    \n",
    "\n",
    "\n",
    "points_numb = 10000\n",
    "x_rand = [random.randint(-12,17) for x in range(points_numb)]\n",
    "y_rand = [random.randint(-5,7) for x in range(points_numb)]\n",
    "rand_vectors = [[x,y] for x,y in zip(x_rand,y_rand)]\n",
    "\n",
    "Bayes_classification, Mahalanobis_classification = classification_vectors(rand_vectors)\n",
    "\n",
    "diff_num = np.count_nonzero(np.where(np.asarray(Bayes_classification)!= np.asarray(Mahalanobis_classification),1,0))\n",
    "\n",
    "print('Difference of classification under {} random points = {}'.format(points_numb,diff_num))"
   ]
  },
  {
   "cell_type": "markdown",
   "metadata": {},
   "source": [
    "---\n",
    "\n",
    "## Part 2\n",
    "In this part, we aim to classify digits using the complete version of MNIST digits dataset.\n",
    "The dataset consists of 60'000 training images and 10'000 test images of handwritten digits.\n",
    "Each image has size 28x28, and has assigned a label from zero to nine, denoting the digits value.\n",
    "Given this data, your task is to construct a Multilayer Perceptron (MLP) for supervised training and classification and evaluate it on the test images.\n",
    "\n",
    "Download the MNIST dataset (all 4 files) from http://yann.lecun.com/exdb/mnist/ under `lab-03-data/part2`.\n",
    "You can then use the script provided below to extract and load training and testing images in Python. \n",
    "\n",
    "**! Warning**: When the lab was created the official MNIST repo was down, if it is still the case please use https://github.com/mkolod/MNIST."
   ]
  },
  {
   "cell_type": "markdown",
   "metadata": {},
   "source": [
    "### 2.1 Dataset loading\n",
    "Here we first declare the methods `extract_data` and `extract_labels` so that we can reuse them later in the code.\n",
    "Then we extract both the data and corresponding labels, and plot randomly some images and corresponding labels of the training set."
   ]
  },
  {
   "cell_type": "code",
   "execution_count": 6,
   "metadata": {},
   "outputs": [],
   "source": [
    "import gzip\n",
    "import numpy as np\n",
    "import matplotlib.pyplot as plt\n",
    "\n",
    "def extract_data(filename, image_shape, image_number):\n",
    "    with gzip.open(filename) as bytestream:\n",
    "        bytestream.read(16)\n",
    "        buf = bytestream.read(np.prod(image_shape) * image_number)\n",
    "        data = np.frombuffer(buf, dtype=np.uint8).astype(np.float32)\n",
    "        data = data.reshape(image_number, image_shape[0], image_shape[1])\n",
    "    return data\n",
    "\n",
    "\n",
    "def extract_labels(filename, image_number):\n",
    "    with gzip.open(filename) as bytestream:\n",
    "        bytestream.read(8)\n",
    "        buf = bytestream.read(1 * image_number)\n",
    "        labels = np.frombuffer(buf, dtype=np.uint8).astype(np.int64)\n",
    "    return labels"
   ]
  },
  {
   "cell_type": "code",
   "execution_count": 7,
   "metadata": {},
   "outputs": [],
   "source": [
    "image_shape = (28, 28)\n",
    "train_set_size = 60000\n",
    "test_set_size = 10000\n",
    "\n",
    "data_part2_folder = os.path.join(data_base_path, data_folder, 'part2')\n",
    "\n",
    "train_images_path = os.path.join(data_part2_folder, 'train-images-idx3-ubyte.gz')\n",
    "train_labels_path = os.path.join(data_part2_folder, 'train-labels-idx1-ubyte.gz')\n",
    "test_images_path = os.path.join(data_part2_folder, 't10k-images-idx3-ubyte.gz')\n",
    "test_labels_path = os.path.join(data_part2_folder, 't10k-labels-idx1-ubyte.gz')\n",
    "\n",
    "train_images = extract_data(train_images_path, image_shape, train_set_size)\n",
    "test_images = extract_data(test_images_path, image_shape, test_set_size)\n",
    "train_labels = extract_labels(train_labels_path, train_set_size)\n",
    "test_labels = extract_labels(test_labels_path, test_set_size)"
   ]
  },
  {
   "cell_type": "code",
   "execution_count": 8,
   "metadata": {},
   "outputs": [
    {
     "data": {
      "image/png": "[encoded data removed]",
      "text/plain": [
       "<Figure size 864x216 with 10 Axes>"
      ]
     },
     "metadata": {
      "needs_background": "light"
     },
     "output_type": "display_data"
    }
   ],
   "source": [
    "prng = np.random.RandomState(seed=123456789)  # seed to always re-draw the same distribution\n",
    "plt_ind = prng.randint(low=0, high=train_set_size, size=10)\n",
    "\n",
    "fig, axes = plt.subplots(1, 10, figsize=(12, 3))\n",
    "for ax, im, lb in zip(axes, train_images[plt_ind], train_labels[plt_ind]):\n",
    "    ax.imshow(im, cmap='gray')\n",
    "    ax.axis('off')\n",
    "    ax.set_title(lb)"
   ]
  },
  {
   "cell_type": "markdown",
   "metadata": {},
   "source": [
    "### 2.2 MLP (10 pts)\n",
    "\n",
    "To create an MLP you are free to choose any library.\n",
    "In case you don't have any preferences, we encourage you to use the [scikit-learn] package; it is a simple, efficient and free tool for data analysis and machine learning.\n",
    "In this [link][sklearn-example], you can find a basic example to see how to create and train an MLP using [scikit-learn].\n",
    "Your network should have the following properties:\n",
    "* Input `x`: 784-dimensional (i.e. 784 visible units representing the flattened 28x28 pixel images).\n",
    "* 100 hidden units `h`.\n",
    "* 10 output units `y`, i.e. the labels, with a value close to one in the i-th class representing a high probability of the input representing the digit `i`.\n",
    "\n",
    "If you need additional examples you can borrow some code from image classification tutorials.\n",
    "However, we recommend that you construct a minimal version of the network on your own to gain better insights.\n",
    "\n",
    "[scikit-learn]: http://scikit-learn.org/stable/index.html\n",
    "[sklearn-example]: http://scikit-learn.org/stable/modules/neural_networks_supervised.html"
   ]
  },
  {
   "cell_type": "markdown",
   "metadata": {},
   "source": [
    "###  Implementation Details \n",
    "\n",
    "#### Data Preprocessing: \n",
    "For the labels, one hot label encoding is implemented in order to efficiently count the amount of error in the train and test set. Moreover, the dataset is standardized by substracting its mean and dividing by its standard deviation. \n",
    "\n",
    "#### The Multi Layer Perceptron \n",
    "The MLP has been implemented using the pytorch library.  The following properties are implemented:\n",
    "\n",
    "1. A module implementing a Multi Layer perceptron with one layer of 100 units\n",
    "2. A relu activation layer to implement non-linearity\n",
    "\n",
    "#### Training: \n",
    "For training, the following structure is used: \n",
    "\n",
    "1. Mean square error loss\n",
    "2. Stochastic gradient descent for backpropagation "
   ]
  },
  {
   "cell_type": "code",
   "execution_count": 9,
   "metadata": {},
   "outputs": [],
   "source": [
    "import torch\n",
    "import torch.nn as nn\n",
    "import torch.nn.functional as F\n",
    "from torch import optim \n",
    "from torchvision import datasets\n",
    "import matplotlib.pyplot as plt\n",
    "import numpy as np"
   ]
  },
  {
   "cell_type": "code",
   "execution_count": 10,
   "metadata": {},
   "outputs": [],
   "source": [
    "class MLP(nn.Module):\n",
    "    def __init__(self, nb_hidden:int):\n",
    "        super().__init__()\n",
    "        \"\"\"\n",
    "        Multi Layer Perceptron Module \n",
    "\n",
    "        Arguments: \n",
    "        nb_hidden [int]: Dimension of the hidden layer \n",
    "\n",
    "        Attributes: \n",
    "        fc1: First fully connected linear layer (28*28) -->nb_hidden \n",
    "        fc2: Second fully connected linear layer (nb_hidden) --> 10 \n",
    "\n",
    "        \"\"\"\n",
    "        # First fully connected linear layer (784)->(100)\n",
    "        self.fc1 = nn.Linear(28*28, nb_hidden) \n",
    "        self.fc2 = nn.Linear(nb_hidden, 10)\n",
    "\n",
    "    def forward(self, x):\n",
    "        x = F.relu(self.fc1(x.view(-1, 28*28)))\n",
    "        x = self.fc2(x)\n",
    "        return x\n",
    "\n",
    "\n",
    "def train_model(model:nn.Module, train_input:torch.tensor, train_target:torch.tensor, mini_batch_size: int, nb_epochs: int = 20,verbose:int =0)-> [np.ndarray,np.ndarray]:\n",
    "\n",
    "    \"\"\"\n",
    "    Training model function, plots the final train and test error \n",
    "\n",
    "    Attributes: \n",
    "    criterion: MSE Loss\n",
    "    Optimizer: SGD \n",
    "\n",
    "    Parameters: \n",
    "    model [nn.Module]: Pytorch module wished to be trained\n",
    "    train_input [torch.tensor]: input images with dimension (n,1,28,28) with n the number of images\n",
    "    train_target [torch.tesnor]: input labels with dimension(n,1)\n",
    "    mini_batch_size [int]: Batch Size\n",
    "    nb_epochs [int]: amount of epochs,  20 by default\n",
    "    verbose[int]: If >0, displays the train and test error for each epoch. \n",
    "\n",
    "    Returns: \n",
    "    train_error [numpy.ndarray]: array with train error pourcentage with dimension (1,nb_epoch)\n",
    "    test_error [numpy.ndarray]:array with train error pourcentage with dimension (1,nb_epoch)\n",
    "    \"\"\"\n",
    "\n",
    "    criterion = nn.MSELoss()\n",
    "    optimizer = optim.SGD(model.parameters(), lr = 1e-1)\n",
    "\n",
    "    train_error=[]\n",
    "    test_error=[]\n",
    "    for e in range(nb_epochs):\n",
    "        acc_loss = 0\n",
    "\n",
    "        for b in range(0, train_input.size(0), mini_batch_size):\n",
    "            output = model(train_input.narrow(0, b, mini_batch_size))\n",
    "            loss = criterion(output, train_target.narrow(0, b, mini_batch_size))\n",
    "            model.zero_grad()\n",
    "            optimizer.zero_grad()\n",
    "            loss.backward()\n",
    "            optimizer.step()\n",
    "\n",
    "        nb_test_errors = compute_nb_errors(model, test_input, test_target, mini_batch_size)\n",
    "        nb_train_errors = compute_nb_errors(model, train_input, train_target, mini_batch_size)\n",
    "\n",
    "        train_error=np.append(train_error,(100 * nb_train_errors) / train_input.size(0))\n",
    "        test_error=np.append(test_error,(100 * nb_test_errors) / test_input.size(0))\n",
    "\n",
    "\n",
    "        if verbose>0:\n",
    "            print(e,' Train error: {:0.2f}%  Test error: {:0.2f}% '.format((100 * nb_train_errors) / train_input.size(0),\n",
    "                                                                        (100 * nb_test_errors) / test_input.size(0)))\n",
    "\n",
    "        if e==nb_epochs-1:\n",
    "            print('Final Train error: {:0.2f}%  Test error: {:0.2f}% '.format((100 * nb_train_errors) / train_input.size(0),\n",
    "                                                                        (100 * nb_test_errors) / test_input.size(0)))\n",
    "    return train_error,test_error\n",
    "        \n",
    "           \n",
    "\n",
    "def compute_nb_errors(model:nn.Module, input:torch.tensor, target:torch.tensor, mini_batch_size:int)->int:\n",
    "    \"\"\"\n",
    "    Computes the absolute number of errors of a model with respect to an input and a target \n",
    "\n",
    "    Parameters:\n",
    "    model [nn.Module]: Model to be used\n",
    "    input[torch.tensor]: input images with dimension (n,1,28,28) with n the number of images\n",
    "    target [torch.tesnor]: input labels with dimension(n,1)\n",
    "    mini_batch_size [int]: Batch Size\n",
    "\n",
    "    Returns:\n",
    "    nb_errors[int]: Absolute number of errors where the target differs from the predicted value\n",
    "\n",
    "    \"\"\"\n",
    "    nb_errors = 0\n",
    "\n",
    "    for b in range(0, input.size(0), mini_batch_size):\n",
    "        output = model(input.narrow(0, b, mini_batch_size))\n",
    "        _, predicted_classes = output.max(1)\n",
    "        #print(predicted_classes)\n",
    "        for k in range(mini_batch_size):\n",
    "            if target[b + k, predicted_classes[k]] <= 0:\n",
    "                nb_errors = nb_errors + 1\n",
    "\n",
    "    return nb_errors\n",
    "\n",
    "def convert_to_one_hot_labels(input:torch.tensor, target:torch.tensor)->torch.tensor:\n",
    "    \"\"\"\n",
    "    Conversion to one hot labels\n",
    "\n",
    "    Parameters: \n",
    "    input[torch.tensor]: input images with dimension (n,1,28,28) with n the number of images\n",
    "    target [torch.tesnor]: input labels with dimension(n,1)\n",
    "\n",
    "    Returns:\n",
    "    tmp [torch.tensor]: One hot label tensor with dimension (n,c) with n the number of data points and c the number of classes.    \n",
    "    \"\"\"\n",
    "\n",
    "    tmp = input.new_zeros(target.size(0), target.max() + 1)\n",
    "    tmp.scatter_(1, target.view(-1, 1), 1.0)\n",
    "    return tmp"
   ]
  },
  {
   "cell_type": "code",
   "execution_count": 11,
   "metadata": {},
   "outputs": [
    {
     "name": "stdout",
     "output_type": "stream",
     "text": [
      "0  Train error: 8.98%  Test error: 8.39% \n",
      "1  Train error: 6.97%  Test error: 6.66% \n",
      "2  Train error: 6.06%  Test error: 5.73% \n",
      "3  Train error: 5.45%  Test error: 5.35% \n",
      "4  Train error: 5.03%  Test error: 4.99% \n",
      "5  Train error: 4.64%  Test error: 4.71% \n",
      "6  Train error: 4.33%  Test error: 4.58% \n",
      "7  Train error: 4.07%  Test error: 4.42% \n",
      "8  Train error: 3.92%  Test error: 4.30% \n",
      "9  Train error: 3.75%  Test error: 4.19% \n",
      "10  Train error: 3.63%  Test error: 4.04% \n",
      "11  Train error: 3.48%  Test error: 3.96% \n",
      "12  Train error: 3.37%  Test error: 3.93% \n",
      "13  Train error: 3.24%  Test error: 3.87% \n",
      "14  Train error: 3.17%  Test error: 3.77% \n",
      "15  Train error: 3.10%  Test error: 3.71% \n",
      "16  Train error: 3.05%  Test error: 3.66% \n",
      "17  Train error: 2.97%  Test error: 3.61% \n",
      "18  Train error: 2.91%  Test error: 3.55% \n",
      "19  Train error: 2.87%  Test error: 3.49% \n",
      "Final Train error: 2.87%  Test error: 3.49% \n"
     ]
    },
    {
     "data": {
      "image/png": "[encoded data removed]",
      "text/plain": [
       "<Figure size 432x288 with 1 Axes>"
      ]
     },
     "metadata": {
      "needs_background": "light"
     },
     "output_type": "display_data"
    }
   ],
   "source": [
    "\n",
    "# Preprocessing \n",
    "# Converting data into pytorch tensor with dimension (n,1,28,28) with n the number of data points\n",
    "train_input =torch.tensor(extract_data(train_images_path, image_shape, train_set_size)).view(-1,1,28,28).float()\n",
    "test_input =torch.tensor(extract_data(test_images_path, image_shape, test_set_size)).view(-1,1,28,28).float()\n",
    "train_target = torch.tensor(extract_labels(train_labels_path, train_set_size))\n",
    "test_target = torch.tensor(extract_labels(test_labels_path, test_set_size))\n",
    "\n",
    "# One hot encoding of the labels\n",
    "train_target=convert_to_one_hot_labels(train_input, train_target)\n",
    "test_target=convert_to_one_hot_labels(test_input, test_target)\n",
    "\n",
    "# Normalization of the data \n",
    "mu, std = train_input.mean(), train_input.std()\n",
    "train_input.sub_(mu).div_(std)\n",
    "test_input.sub_(mu).div_(std)\n",
    "\n",
    "\n",
    "# Building and training the Model \n",
    "mini_batch_size = 100\n",
    "model = MLP(100)\n",
    "train_error,test_error=train_model(model, train_input, train_target, mini_batch_size,verbose=1)\n",
    "\n",
    "\n",
    "# Plotting the accuracy \n",
    "fig = plt.figure()\n",
    "ax = fig.add_subplot(111)\n",
    "ax.plot(range(0,train_error.shape[0]), 100-train_error, color='blue', linewidth=3,label='Train accuracy')\n",
    "ax.plot(range(0,test_error.shape[0]), 100-test_error, color='red', linewidth=2,label='Test accuracy')\n",
    "ax.set_xlabel('Epochs')\n",
    "ax.legend()\n",
    "plt.show()"
   ]
  },
  {
   "cell_type": "markdown",
   "metadata": {},
   "source": [
    "### Discussion\n",
    "\n",
    "Once the model is trained with 20 epochs and a batch size of 100, it reaches an accuracy of 96.58% on the testing set. This is very nice for such an easy model with just one layer. \n",
    "On the plot one can notice a clear correlation between the testing and training accuracy for a low amount of epochs. However when the amount of epochs increase, the train and test error diverge more and more. This is due to overfitting the training data. The training set is fairly large so the real effect of overfitting is not very clear. So the following figure shows the test and train accuracy for a reduced training set of 1000 data points and 200 epochs. One notices that at some point, the train accuracy is nearly 100% while the test accuracy stagnates at 90%. This shows that the training set does not represent fully the data, which is why it is preferable to train the data with a large training set which is as diverse as possible."
   ]
  },
  {
   "cell_type": "code",
   "execution_count": 12,
   "metadata": {},
   "outputs": [
    {
     "name": "stdout",
     "output_type": "stream",
     "text": [
      "Final Train error: 0.00%  Test error: 10.96% \n"
     ]
    },
    {
     "data": {
      "image/png": "[encoded data removed]",
      "text/plain": [
       "<Figure size 432x288 with 1 Axes>"
      ]
     },
     "metadata": {
      "needs_background": "light"
     },
     "output_type": "display_data"
    }
   ],
   "source": [
    "# Example for 1000 traingng data \n",
    "nb_e=200\n",
    "mini_batch_size=100\n",
    "model = MLP(100)\n",
    "train_error,test_error=train_model(model, train_input.narrow(0,0,1000), train_target.narrow(0,0,1000), mini_batch_size,nb_epochs=nb_e,verbose=0)\n",
    "fig = plt.figure()\n",
    "ax = fig.add_subplot(111)\n",
    "ax.plot(range(0,train_error.shape[0]), 100-train_error, color='blue', linewidth=3,label='Train accuracy')\n",
    "ax.plot(range(0,test_error.shape[0]), 100-test_error, color='red', linewidth=2,label='Test accuracy')\n",
    "ax.set_xlabel('Epochs')\n",
    "ax.legend()\n",
    "plt.show()"
   ]
  }
 ],
 "metadata": {
  "kernelspec": {
   "name": "python392jvsc74a57bd0aee8b7b246df8f9039afb4144a1f6fd8d2ca17a180786b69acc140d282b71a49",
   "display_name": "Python 3.9.2 64-bit"
  },
  "language_info": {
   "codemirror_mode": {
    "name": "ipython",
    "version": 3
   },
   "file_extension": ".py",
   "mimetype": "text/x-python",
   "name": "python",
   "nbconvert_exporter": "python",
   "pygments_lexer": "ipython3",
   "version": "3.9.2"
  },
  "metadata": {
   "interpreter": {
    "hash": "aee8b7b246df8f9039afb4144a1f6fd8d2ca17a180786b69acc140d282b71a49"
   }
  }
 },
 "nbformat": 4,
 "nbformat_minor": 2
}