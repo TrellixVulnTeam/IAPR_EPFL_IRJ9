{
 "cells": [
  {
   "cell_type": "markdown",
   "metadata": {},
   "source": [
    "# [IAPR][iapr]: Lab 2 ‒  Object description\n",
    "\n",
    "\n",
    "**Group ID:** xx\n",
    "\n",
    "**Author 1 (sciper):** Student Name 1 (xxxxx)  \n",
    "**Author 2 (sciper):** Student Name 2 (xxxxx)   \n",
    "**Author 3 (sciper):** Student Name 3 (xxxxx)   \n",
    "\n",
    "**Release date:** 26.03.2021  \n",
    "**Due date:** 23.04.2021 \n",
    "\n",
    "\n",
    "## Important notes\n",
    "\n",
    "The lab assignments are designed to teach practical implementation of the topics presented during class well as preparation for the final project, which is a practical project which ties together the topics of the course. \n",
    "\n",
    "As such, in the lab assignments/final project, unless otherwise specified, you may, if you choose, use external functions from image processing/ML libraries like opencv and sklearn as long as there is sufficient explanation in the lab report. For example, you do not need to implement your own edge detector, etc.\n",
    "\n",
    "**! Before handling back the notebook !** rerun the notebook from scratch `Kernel` > `Restart & Run All`\n",
    "\n",
    "\n",
    "[iapr]: https://github.com/LTS5/iapr"
   ]
  },
  {
   "cell_type": "markdown",
   "metadata": {},
   "source": [
    "## 0. Extract relevant data\n",
    "We first need to extract the `lab-02-data.tar.gz` archive.\n",
    "To this end, we use the [tarfile] module from the Python standard library.\n",
    "\n",
    "[tarfile]: https://docs.python.org/3.6/library/tarfile.html"
   ]
  },
  {
   "cell_type": "code",
   "execution_count": 1,
   "metadata": {},
   "outputs": [
    {
     "ename": "FileNotFoundError",
     "evalue": "[Errno 2] No such file or directory: '../data/lab-02-data.tar.gz'",
     "output_type": "error",
     "traceback": [
      "\u001b[0;31m---------------------------------------------------------------------------\u001b[0m",
      "\u001b[0;31mFileNotFoundError\u001b[0m                         Traceback (most recent call last)",
      "\u001b[0;32m<ipython-input-1-5c2e082a75c3>\u001b[0m in \u001b[0;36m<module>\u001b[0;34m\u001b[0m\n\u001b[1;32m      8\u001b[0m \u001b[0;34m\u001b[0m\u001b[0m\n\u001b[1;32m      9\u001b[0m \u001b[0mtar_path\u001b[0m \u001b[0;34m=\u001b[0m \u001b[0mos\u001b[0m\u001b[0;34m.\u001b[0m\u001b[0mpath\u001b[0m\u001b[0;34m.\u001b[0m\u001b[0mjoin\u001b[0m\u001b[0;34m(\u001b[0m\u001b[0mdata_base_path\u001b[0m\u001b[0;34m,\u001b[0m \u001b[0mdata_folder\u001b[0m \u001b[0;34m+\u001b[0m \u001b[0;34m'.tar.gz'\u001b[0m\u001b[0;34m)\u001b[0m\u001b[0;34m\u001b[0m\u001b[0;34m\u001b[0m\u001b[0m\n\u001b[0;32m---> 10\u001b[0;31m \u001b[0;32mwith\u001b[0m \u001b[0mtarfile\u001b[0m\u001b[0;34m.\u001b[0m\u001b[0mopen\u001b[0m\u001b[0;34m(\u001b[0m\u001b[0mtar_path\u001b[0m\u001b[0;34m,\u001b[0m \u001b[0mmode\u001b[0m\u001b[0;34m=\u001b[0m\u001b[0;34m'r:gz'\u001b[0m\u001b[0;34m)\u001b[0m \u001b[0;32mas\u001b[0m \u001b[0mtar\u001b[0m\u001b[0;34m:\u001b[0m\u001b[0;34m\u001b[0m\u001b[0;34m\u001b[0m\u001b[0m\n\u001b[0m\u001b[1;32m     11\u001b[0m     \u001b[0mtar\u001b[0m\u001b[0;34m.\u001b[0m\u001b[0mextractall\u001b[0m\u001b[0;34m(\u001b[0m\u001b[0mpath\u001b[0m\u001b[0;34m=\u001b[0m\u001b[0mdata_base_path\u001b[0m\u001b[0;34m)\u001b[0m\u001b[0;34m\u001b[0m\u001b[0;34m\u001b[0m\u001b[0m\n",
      "\u001b[0;32m/usr/local/Cellar/python@3.9/3.9.2_1/Frameworks/Python.framework/Versions/3.9/lib/python3.9/tarfile.py\u001b[0m in \u001b[0;36mopen\u001b[0;34m(cls, name, mode, fileobj, bufsize, **kwargs)\u001b[0m\n\u001b[1;32m   1627\u001b[0m             \u001b[0;32melse\u001b[0m\u001b[0;34m:\u001b[0m\u001b[0;34m\u001b[0m\u001b[0;34m\u001b[0m\u001b[0m\n\u001b[1;32m   1628\u001b[0m                 \u001b[0;32mraise\u001b[0m \u001b[0mCompressionError\u001b[0m\u001b[0;34m(\u001b[0m\u001b[0;34m\"unknown compression type %r\"\u001b[0m \u001b[0;34m%\u001b[0m \u001b[0mcomptype\u001b[0m\u001b[0;34m)\u001b[0m\u001b[0;34m\u001b[0m\u001b[0;34m\u001b[0m\u001b[0m\n\u001b[0;32m-> 1629\u001b[0;31m             \u001b[0;32mreturn\u001b[0m \u001b[0mfunc\u001b[0m\u001b[0;34m(\u001b[0m\u001b[0mname\u001b[0m\u001b[0;34m,\u001b[0m \u001b[0mfilemode\u001b[0m\u001b[0;34m,\u001b[0m \u001b[0mfileobj\u001b[0m\u001b[0;34m,\u001b[0m \u001b[0;34m**\u001b[0m\u001b[0mkwargs\u001b[0m\u001b[0;34m)\u001b[0m\u001b[0;34m\u001b[0m\u001b[0;34m\u001b[0m\u001b[0m\n\u001b[0m\u001b[1;32m   1630\u001b[0m \u001b[0;34m\u001b[0m\u001b[0m\n\u001b[1;32m   1631\u001b[0m         \u001b[0;32melif\u001b[0m \u001b[0;34m\"|\"\u001b[0m \u001b[0;32min\u001b[0m \u001b[0mmode\u001b[0m\u001b[0;34m:\u001b[0m\u001b[0;34m\u001b[0m\u001b[0;34m\u001b[0m\u001b[0m\n",
      "\u001b[0;32m/usr/local/Cellar/python@3.9/3.9.2_1/Frameworks/Python.framework/Versions/3.9/lib/python3.9/tarfile.py\u001b[0m in \u001b[0;36mgzopen\u001b[0;34m(cls, name, mode, fileobj, compresslevel, **kwargs)\u001b[0m\n\u001b[1;32m   1673\u001b[0m \u001b[0;34m\u001b[0m\u001b[0m\n\u001b[1;32m   1674\u001b[0m         \u001b[0;32mtry\u001b[0m\u001b[0;34m:\u001b[0m\u001b[0;34m\u001b[0m\u001b[0;34m\u001b[0m\u001b[0m\n\u001b[0;32m-> 1675\u001b[0;31m             \u001b[0mfileobj\u001b[0m \u001b[0;34m=\u001b[0m \u001b[0mGzipFile\u001b[0m\u001b[0;34m(\u001b[0m\u001b[0mname\u001b[0m\u001b[0;34m,\u001b[0m \u001b[0mmode\u001b[0m \u001b[0;34m+\u001b[0m \u001b[0;34m\"b\"\u001b[0m\u001b[0;34m,\u001b[0m \u001b[0mcompresslevel\u001b[0m\u001b[0;34m,\u001b[0m \u001b[0mfileobj\u001b[0m\u001b[0;34m)\u001b[0m\u001b[0;34m\u001b[0m\u001b[0;34m\u001b[0m\u001b[0m\n\u001b[0m\u001b[1;32m   1676\u001b[0m         \u001b[0;32mexcept\u001b[0m \u001b[0mOSError\u001b[0m\u001b[0;34m:\u001b[0m\u001b[0;34m\u001b[0m\u001b[0;34m\u001b[0m\u001b[0m\n\u001b[1;32m   1677\u001b[0m             \u001b[0;32mif\u001b[0m \u001b[0mfileobj\u001b[0m \u001b[0;32mis\u001b[0m \u001b[0;32mnot\u001b[0m \u001b[0;32mNone\u001b[0m \u001b[0;32mand\u001b[0m \u001b[0mmode\u001b[0m \u001b[0;34m==\u001b[0m \u001b[0;34m'r'\u001b[0m\u001b[0;34m:\u001b[0m\u001b[0;34m\u001b[0m\u001b[0;34m\u001b[0m\u001b[0m\n",
      "\u001b[0;32m/usr/local/Cellar/python@3.9/3.9.2_1/Frameworks/Python.framework/Versions/3.9/lib/python3.9/gzip.py\u001b[0m in \u001b[0;36m__init__\u001b[0;34m(self, filename, mode, compresslevel, fileobj, mtime)\u001b[0m\n\u001b[1;32m    171\u001b[0m             \u001b[0mmode\u001b[0m \u001b[0;34m+=\u001b[0m \u001b[0;34m'b'\u001b[0m\u001b[0;34m\u001b[0m\u001b[0;34m\u001b[0m\u001b[0m\n\u001b[1;32m    172\u001b[0m         \u001b[0;32mif\u001b[0m \u001b[0mfileobj\u001b[0m \u001b[0;32mis\u001b[0m \u001b[0;32mNone\u001b[0m\u001b[0;34m:\u001b[0m\u001b[0;34m\u001b[0m\u001b[0;34m\u001b[0m\u001b[0m\n\u001b[0;32m--> 173\u001b[0;31m             \u001b[0mfileobj\u001b[0m \u001b[0;34m=\u001b[0m \u001b[0mself\u001b[0m\u001b[0;34m.\u001b[0m\u001b[0mmyfileobj\u001b[0m \u001b[0;34m=\u001b[0m \u001b[0mbuiltins\u001b[0m\u001b[0;34m.\u001b[0m\u001b[0mopen\u001b[0m\u001b[0;34m(\u001b[0m\u001b[0mfilename\u001b[0m\u001b[0;34m,\u001b[0m \u001b[0mmode\u001b[0m \u001b[0;32mor\u001b[0m \u001b[0;34m'rb'\u001b[0m\u001b[0;34m)\u001b[0m\u001b[0;34m\u001b[0m\u001b[0;34m\u001b[0m\u001b[0m\n\u001b[0m\u001b[1;32m    174\u001b[0m         \u001b[0;32mif\u001b[0m \u001b[0mfilename\u001b[0m \u001b[0;32mis\u001b[0m \u001b[0;32mNone\u001b[0m\u001b[0;34m:\u001b[0m\u001b[0;34m\u001b[0m\u001b[0;34m\u001b[0m\u001b[0m\n\u001b[1;32m    175\u001b[0m             \u001b[0mfilename\u001b[0m \u001b[0;34m=\u001b[0m \u001b[0mgetattr\u001b[0m\u001b[0;34m(\u001b[0m\u001b[0mfileobj\u001b[0m\u001b[0;34m,\u001b[0m \u001b[0;34m'name'\u001b[0m\u001b[0;34m,\u001b[0m \u001b[0;34m''\u001b[0m\u001b[0;34m)\u001b[0m\u001b[0;34m\u001b[0m\u001b[0;34m\u001b[0m\u001b[0m\n",
      "\u001b[0;31mFileNotFoundError\u001b[0m: [Errno 2] No such file or directory: '../data/lab-02-data.tar.gz'"
     ]
    }
   ],
   "source": [
    "import tarfile\n",
    "import os\n",
    "\n",
    "data_base_path = os.path.join(os.pardir, 'data')\n",
    "data_folder = 'lab-02-data'\n",
    "data_part1 = os.path.join(data_base_path, data_folder, 'part1')\n",
    "data_part2 = os.path.join(data_base_path, data_folder, 'part2')\n",
    "\n",
    "tar_path = os.path.join(data_base_path, data_folder + '.tar.gz')\n",
    "with tarfile.open(tar_path, mode='r:gz') as tar:\n",
    "    tar.extractall(path=data_base_path)"
   ]
  },
  {
   "cell_type": "markdown",
   "metadata": {},
   "source": [
    "---\n",
    "## Part 1\n",
    "In the `lab-02-data/part1` folder, you will find 28x28 grey-scale pictures of handwritten \"0\" and \"1\".\n",
    "These digits have been extracted from MNIST dataset (http://yann.lecun.com/exdb/mnist/).\n",
    "\n",
    "Your goal is to extract, from each of those images, a 2-dimensional feature vector (i.e. 2 features) and to plot them all on a 2D graph.\n",
    "If you have chosen good features, the vectors of the \"0\"'s should nicely cluster in one part of the plane and those of the \"1\"'s in another.\n",
    "\n",
    "Please try:\n",
    "1. Fourier Descriptors (15pts). \n",
    "    1. Implementation (10 pts).\n",
    "    2. Showing invariance to rotation, translation and scaling (5 pts).\n",
    "2. Additional method of your choice (5 pts)\n",
    "\n",
    "\n",
    "**Note:** for the Fourier descriptors, the u_k signal has to be constructed by following the contour point after point. Some pre-processing (image binarization, possibly some Mathematical Morphology) might be useful."
   ]
  },
  {
   "cell_type": "markdown",
   "metadata": {},
   "source": [
    "### 1.1 Data visualization"
   ]
  },
  {
   "cell_type": "code",
   "execution_count": null,
   "metadata": {},
   "outputs": [],
   "source": [
    "import skimage.io\n",
    "import matplotlib.pyplot as plt\n",
    "import cv2\n",
    "import numpy as np\n",
    "%matplotlib inline\n",
    "import itertools\n",
    "from scipy import special\n",
    "from scipy import interpolate\n",
    "\n",
    "def load(path, digit='0'):\n",
    "    digit_path = os.path.join(path, digit)\n",
    "    digit_names = [nm for nm in os.listdir(digit_path) if '.png' in nm]  # make sure to only load .png\n",
    "    digit_names.sort()  # sort file names\n",
    "    ic = skimage.io.imread_collection([os.path.join(digit_path, nm) for nm in digit_names])\n",
    "    digit_im = skimage.io.concatenate_images(ic)\n",
    "    return digit_im, digit_names\n",
    "                        \n",
    "#  Load zeros and ones\n",
    "zeros_im, zeros_names = load(data_part1, digit='0')\n",
    "ones_im, ones_names = load(data_part1, digit='1')\n",
    "\n",
    "\n",
    "# Plot images\n",
    "fig, axes = plt.subplots(2, len(zeros_im), figsize=(12, 3))\n",
    "for ax, im, nm in zip(axes[0], zeros_im, zeros_names):\n",
    "    ax.imshow(im, cmap='gray')\n",
    "    ax.axis('off')\n",
    "    ax.set_title(nm)\n",
    "for ax, im, nm in zip(axes[1], ones_im, ones_names):\n",
    "    ax.imshow(im, cmap='gray')\n",
    "    ax.axis('off')\n",
    "    ax.set_title(nm)"
   ]
  },
  {
   "cell_type": "markdown",
   "metadata": {},
   "source": [
    "### 1.2 Fourier descriptors (15 pts)"
   ]
  },
  {
   "cell_type": "code",
<<<<<<< HEAD
   "execution_count": null,
   "metadata": {
    "scrolled": false
   },
   "outputs": [],
=======
   "execution_count": 29,
   "metadata": {
    "scrolled": false
   },
   "outputs": [
    {
     "name": "stdout",
     "output_type": "stream",
     "text": [
      "(20, 2, 1)\n"
     ]
    },
    {
     "data": {
      "image/png": "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\n",
      "text/plain": [
       "<Figure size 432x288 with 1 Axes>"
      ]
     },
     "metadata": {
      "needs_background": "light"
     },
     "output_type": "display_data"
    }
   ],
>>>>>>> 21f8d843ef6366b1c14e5dc9e1ccb6313e3dfb57
   "source": [
    "### Add your implementation and discussion\n",
    "\n",
    "def find_contour(img):\n",
    "    \n",
    "    ret,thresh = cv2.threshold(img,127,255,cv2.THRESH_BINARY)\n",
    "    contour, hierarchy = cv2.findContours(thresh,cv2.RETR_EXTERNAL,cv2.CHAIN_APPROX_NONE)\n",
    "    contour_array = contour[0][:, 0, :]\n",
    "    \n",
    "    return contour_array, thresh\n",
    "\n",
    "def interp_contour(contour_array,nb_it):\n",
    "    \n",
    "    for ii in range(nb_it):\n",
    "        \n",
    "        size_array=contour_array.shape[0]    \n",
    "        copy_contour=contour_array[0,:].reshape(1,2)\n",
    "\n",
    "        for jj in range(size_array-1):\n",
    "            copy_contour=np.append(copy_contour,np.array([[(contour_array[jj,0]+contour_array[jj+1,0])/2],[(contour_array[jj,1]+contour_array[jj+1,1])/2]]).T,axis=0)\n",
    "            copy_contour=np.append(copy_contour,[contour_array[jj+1,:]],axis=0)\n",
    "        contour_array = copy_contour.copy()\n",
    "    \n",
    "    return contour_array    \n",
    "\n",
    "def to_Complex(contour_array):\n",
    "    interp_contour(contour_array,5)\n",
    "    \n",
    "    contour_complex = np.empty(contour_array.shape[:-1], dtype=complex)\n",
    "    contour_complex.real = contour_array[:, 0]\n",
    "    contour_complex.imag = contour_array[:, 1]\n",
    "    fourier = np.fft.fft(contour_complex)\n",
    "\n",
    "    return fourier\n",
    "\n",
    "def first_descriptors(fourier,features):\n",
    "    #features is a vector of the desired features\n",
    "    res = np.zeros(features.shape)\n",
    "    count=0\n",
    "    for ii in features:\n",
    "        res[count]=np.abs(fourier[ii])\n",
    "        count+=1\n",
    "    return res\n",
    "\n",
    "\n",
    "\n",
    "images = np.concatenate((zeros_im,ones_im))\n",
    "nb_zeros=zeros_im.shape[0]\n",
    "nb_ones=ones_im.shape[0]\n",
    "number_feat=2\n",
<<<<<<< HEAD
    "\n",
    "poss=int(special.binom((number_feat),2))\n",
    "descriptors=np.zeros((nb_zeros+nb_ones,2,poss))\n",
    "print(descriptors.shape)\n",
    "ii=0\n",
    "jj=0\n",
    "for a, b in itertools.combinations(range(number_feat), 2):\n",
    "    for im in images:\n",
    "        cont,newimg= find_contour(im)\n",
    "\n",
    "        contimg=np.zeros_like(im)\n",
    "        contimg[cont[:,1],cont[:,0]]=255\n",
    "\n",
    "        ''' Show the original and the contour\n",
    "        fig, ax = plt.subplots(1, 2, figsize=(12, 7))\n",
    "        ax[0].imshow(im,cmap='gray')\n",
    "        ax[1].imshow(contimg, cmap='gray')\n",
    "        plt.show()\n",
    "        '''\n",
    "\n",
    "        fourier = to_Complex(cont)\n",
    "        feat=np.array([a,b])\n",
    "        descriptors[ii,:,jj]=first_descriptors(fourier,feat)\n",
    "\n",
    "        ii+=1\n",
    "    ii=0\n",
    "    jj+=1\n",
=======
>>>>>>> 21f8d843ef6366b1c14e5dc9e1ccb6313e3dfb57
    "\n",
    "def fourier_descriptors(number_feat,nb_zeros,nb_ones,images):\n",
    "    \n",
    "    poss=int(special.binom((number_feat),2))\n",
    "    descriptors=np.zeros((nb_zeros+nb_ones,2,poss))\n",
    "    print(descriptors.shape)\n",
    "    ii=0\n",
    "    jj=0\n",
    "    for a, b in itertools.combinations(range(number_feat), 2):\n",
    "        for im in images:\n",
    "            cont,newimg= find_contour(im)\n",
    "            contimg=np.zeros_like(newimg)\n",
    "            contimg[cont[:,1],cont[:,0]]=255\n",
    "\n",
    "            #Show the original and the contour\n",
    "            \n",
    "            ''' \n",
    "            fig, ax = plt.subplots(1, 2, figsize=(12, 7))\n",
    "            ax[0].imshow(im,cmap='gray')\n",
    "            ax[1].imshow(contimg, cmap='gray')\n",
    "            plt.show()\n",
    "            '''\n",
    "\n",
    "            fourier = to_Complex(cont)\n",
    "            feat=np.array([a,b])\n",
    "            descriptors[ii,:,jj]=first_descriptors(fourier,feat)\n",
    "\n",
    "            ii+=1\n",
    "        ii=0\n",
    "        jj+=1\n",
    "    descriptors=descriptors[:,:,0]\n",
    "    descriptors=np.divide(descriptors,np.tile(descriptors[0,:],(descriptors.shape[0],1)))\n",
    "    descriptors=descriptors[:,:,np.newaxis]\n",
    "    return descriptors\n",
    "\n",
    "descriptors= fourier_descriptors(number_feat,nb_zeros,nb_ones,images)\n",
    "# Plotting the first 2 fourier descriptors\n",
    "kk=0\n",
    "\n",
    "for a, b in itertools.combinations(range(number_feat), 2):\n",
    "    fig, ax = plt.subplots(1)\n",
    "    ax.scatter(descriptors[0:nb_zeros,0,kk],descriptors[0:nb_zeros,1,kk],label='zeros')\n",
    "    ax.scatter(descriptors[nb_zeros:,0,kk],descriptors[nb_zeros:,1,kk],label='ones')\n",
    "    plt.title('Chosen features : {} and {}'.format(a+1,b+1))\n",
    "    leg=ax.legend(loc='lower right')\n",
    "    kk+=1\n",
    "\n"
   ]
  },
  {
   "cell_type": "markdown",
   "metadata": {},
   "source": [
    "### 1.3 Additional method (5 pts)"
   ]
  },
  {
   "cell_type": "code",
   "execution_count": null,
   "metadata": {},
   "outputs": [],
   "source": [
    "# Add your implementation and discussion"
   ]
  },
  {
   "cell_type": "markdown",
   "metadata": {},
   "source": [
    "---\n",
    "## Part 2\n",
    "The `lab-02-data/part2` folder contains grey-scale pictures of handwritten \"2\" and \"3\".\n",
    "Extract the same feature (typically 2 Fourier descriptors) as in part 1 also on these images and plot them on the same graph as the features of the \"0\" and \"1\".\n",
    "Is it possible to discriminate all these 4 digits with a 2-dimensional feature vector?"
   ]
  },
  {
   "cell_type": "markdown",
   "metadata": {},
   "source": [
    "### 2.1 Data visualization"
   ]
  },
  {
   "cell_type": "code",
<<<<<<< HEAD
   "execution_count": null,
=======
   "execution_count": 5,
>>>>>>> 21f8d843ef6366b1c14e5dc9e1ccb6313e3dfb57
   "metadata": {},
   "outputs": [],
   "source": [
    "#  Load twos and threes\n",
    "twos_im, twos_names = load(data_part2, digit='2')\n",
    "threes_im, threes_names = load(data_part2, digit='3')\n",
    "\n",
    "# Plot images\n",
    "fig, axes = plt.subplots(2, len(twos_im), figsize=(12, 3))\n",
    "for ax, im, nm in zip(axes[0], twos_im, twos_names):\n",
    "    ax.imshow(im, cmap='gray')\n",
    "    ax.axis('off')\n",
    "    ax.set_title(nm)\n",
    "for ax, im, nm in zip(axes[1], threes_im, threes_names):\n",
    "    ax.imshow(im, cmap='gray')\n",
    "    ax.axis('off')\n",
    "    ax.set_title(nm)"
   ]
  },
  {
   "cell_type": "markdown",
   "metadata": {},
   "source": [
    "### 2.2 Fourier descriptors - 4 digits (10 pts)"
   ]
  },
  {
   "cell_type": "code",
<<<<<<< HEAD
   "execution_count": null,
=======
   "execution_count": 6,
>>>>>>> 21f8d843ef6366b1c14e5dc9e1ccb6313e3dfb57
   "metadata": {},
   "outputs": [],
   "source": [
    "# Add your implementation and discussion\n",
    "\n",
    "images = np.concatenate((zeros_im,ones_im,twos_im,threes_im))\n",
    "nb_zeros=zeros_im.shape[0]\n",
    "nb_ones=ones_im.shape[0]\n",
    "nb_twos=twos_im.shape[0]\n",
    "nb_threes=threes_im.shape[0]\n",
    "number_feat=5\n",
    "\n",
    "poss=int(special.binom((number_feat),2))\n",
    "descriptors=np.zeros((nb_zeros+nb_ones+nb_twos+nb_threes,2,poss))\n",
    "print(descriptors.shape)\n",
    "ii=0\n",
    "jj=0\n",
    "for a, b in itertools.combinations(range(number_feat), 2):\n",
    "    for im in images:\n",
    "        cont,newimg= find_contour(im)\n",
    "\n",
    "        contimg=np.zeros_like(im)\n",
    "        contimg[cont[:,1],cont[:,0]]=255\n",
    "\n",
    "        ''' Show the original and the contour\n",
    "        fig, ax = plt.subplots(1, 2, figsize=(12, 7))\n",
    "        ax[0].imshow(im,cmap='gray')\n",
    "        ax[1].imshow(contimg, cmap='gray')\n",
    "        plt.show()\n",
    "        '''\n",
    "\n",
    "        fourier = to_Complex(cont)\n",
    "        feat=np.array([a,b])\n",
    "        descriptors[ii,:,jj]=first_descriptors(fourier,feat)\n",
    "\n",
    "        ii+=1\n",
    "    ii=0\n",
    "    jj+=1\n",
    "\n",
    "    \n",
    "# Plotting the first 2 fourier descriptors\n",
    "kk=0\n",
    "\n",
    "for a, b in itertools.combinations(range(number_feat), 2):\n",
    "    fig, ax = plt.subplots(1)\n",
    "    ax.scatter(descriptors[0:nb_zeros,0,kk],descriptors[0:nb_zeros,1,kk],label='zeros')\n",
    "    ax.scatter(descriptors[nb_zeros:nb_zeros+nb_ones,0,kk],descriptors[nb_zeros:nb_zeros+nb_ones,1,kk],label='ones')\n",
    "    ax.scatter(descriptors[nb_zeros+nb_ones:nb_zeros+nb_ones+nb_twos,0,kk],descriptors[nb_zeros+nb_ones:nb_zeros+nb_ones+nb_twos,1,kk],label='twos')\n",
    "    ax.scatter(descriptors[nb_zeros+nb_ones+nb_twos:nb_zeros+nb_ones+nb_twos+nb_threes,0,kk],descriptors[nb_zeros+nb_ones+nb_twos:nb_zeros+nb_ones+nb_twos+nb_threes,1,kk],label='threes')\n",
    "\n",
    "    plt.title('Chosen features : {} and {}'.format(a+1,b+1))\n",
    "    leg=ax.legend(loc='lower right')\n",
    "    kk+=1"
   ]
  }
 ],
 "metadata": {
  "kernelspec": {
   "display_name": "Python 3",
   "language": "python",
   "name": "python3"
  },
  "language_info": {
   "codemirror_mode": {
    "name": "ipython",
    "version": 3
   },
   "file_extension": ".py",
   "mimetype": "text/x-python",
   "name": "python",
   "nbconvert_exporter": "python",
   "pygments_lexer": "ipython3",
   "version": "3.9.2"
  }
 },
 "nbformat": 4,
 "nbformat_minor": 2
}
