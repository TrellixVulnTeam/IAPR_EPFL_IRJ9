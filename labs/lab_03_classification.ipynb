{
 "cells": [
  {
   "cell_type": "markdown",
   "metadata": {},
   "source": [
    "# [IAPR][iapr]: Lab 3 ‒  Classification\n",
    "\n",
    "\n",
    "**Group ID:** xx\n",
    "\n",
    "**Author 1 (sciper):** Student Name 1 (xxxxx)  \n",
    "**Author 2 (sciper):** Student Name 2 (xxxxx)   \n",
    "**Author 3 (sciper):** Student Name 3 (xxxxx)   \n",
    "\n",
    "**Release date:** 23.04.2021  \n",
    "**Due date:** 07.05.2021 \n",
    "\n",
    "\n",
    "## Important notes\n",
    "\n",
    "The lab assignments are designed to teach practical implementation of the topics presented during class well as preparation for the final project, which is a practical project which ties together the topics of the course. \n",
    "\n",
    "As such, in the lab assignments/final project, unless otherwise specified, you may, if you choose, use external functions from image processing/ML libraries like opencv and sklearn as long as there is sufficient explanation in the lab report. For example, you do not need to implement your own edge detector, etc.\n",
    "\n",
    "**! Before handling back the notebook !** rerun the notebook from scratch `Kernel` > `Restart & Run All`\n",
    "\n",
    "\n",
    "[iapr]: https://github.com/LTS5/iapr"
   ]
  },
  {
   "cell_type": "markdown",
   "metadata": {},
   "source": [
    "## Extract relevant data\n",
    "We first need to extract the `lab-03-data.tar.gz` archive.\n",
    "To this end, we use the [tarfile] module from the Python standard library.\n",
    "\n",
    "[tarfile]: https://docs.python.org/3.6/library/tarfile.html"
   ]
  },
  {
   "cell_type": "code",
   "execution_count": 17,
   "metadata": {},
   "outputs": [],
   "source": [
    "import tarfile\n",
    "import os\n",
    "\n",
    "\n",
    "data_base_path = os.path.join(os.pardir, 'data')\n",
    "data_folder = 'lab-03-data'\n",
    "tar_path = os.path.join(data_base_path, data_folder + '.tar.gz')\n",
    "with tarfile.open(tar_path, mode='r:gz') as tar:\n",
    "    tar.extractall(path=data_base_path)"
   ]
  },
  {
   "cell_type": "markdown",
   "metadata": {},
   "source": [
    "---\n",
    "## Part 1\n",
    "In this part, we will study classification based on the data available in the Matlab file `classification.mat` that you will under `lab-03-data/part1`.\n",
    "There are 3 data sets in this file, each one being a training set for a given class.\n",
    "They are contained in variables `a`, `b` and `c`.\n",
    "\n",
    "**Note**: we can load Matlab files using the [scipy.io] module.\n",
    "\n",
    "[scipy.io]: https://docs.scipy.org/doc/scipy/reference/io.html"
   ]
  },
  {
   "cell_type": "code",
   "execution_count": 18,
   "metadata": {},
   "outputs": [
    {
     "output_type": "stream",
     "name": "stdout",
     "text": [
      "(200, 2) (200, 2) (200, 2)\n"
     ]
    }
   ],
   "source": [
    "import scipy.io\n",
    "\n",
    "data_part1_path = os.path.join(data_base_path, data_folder, 'part1', 'classification.mat')\n",
    "matfile = scipy.io.loadmat(data_part1_path)\n",
    "a = matfile['a']\n",
    "b = matfile['b']\n",
    "c = matfile['c']\n",
    "\n",
    "print(a.shape, b.shape, c.shape)"
   ]
  },
  {
   "cell_type": "markdown",
   "metadata": {},
   "source": [
    "### 1.1 Bayes method (5 pts)\n",
    "Using the Bayes method, give the expression of the separation curves between those three classes.\n",
    "Do reasonable hypotheses about the distributions of those classes and estimate the corresponding parameters based on the given training sets.\n",
    "Draw those curves on a plot, together with the training data. Note that you do not need to solve the analytical expression. You can simply evaluate the function for each point on the plane to end up with a segmentation map.\n",
    "For simplicity reasons, round the estimated parameters to the closest integer value."
   ]
  },
  {
   "cell_type": "code",
   "execution_count": 19,
   "metadata": {},
   "outputs": [],
   "source": [
    "# Add your implementation and discussion"
   ]
  },
  {
   "cell_type": "markdown",
   "metadata": {},
   "source": [
    "### 1.2 Mahalanobis distance (5 pts)\n",
    "For classes `a` and `b`, give the expression of the Mahalanobis distance used to classify a point in class `a` or `b`, and verify the obtained classification, in comparison with the \"complete\" Bayes classification, for a few points of the plane."
   ]
  },
  {
   "cell_type": "code",
   "execution_count": 20,
   "metadata": {},
   "outputs": [],
   "source": [
    "# Add your implementation and discussion"
   ]
  },
  {
   "cell_type": "markdown",
   "metadata": {},
   "source": [
    "---\n",
    "\n",
    "## Part 2\n",
    "In this part, we aim to classify digits using the complete version of MNIST digits dataset.\n",
    "The dataset consists of 60'000 training images and 10'000 test images of handwritten digits.\n",
    "Each image has size 28x28, and has assigned a label from zero to nine, denoting the digits value.\n",
    "Given this data, your task is to construct a Multilayer Perceptron (MLP) for supervised training and classification and evaluate it on the test images.\n",
    "\n",
    "Download the MNIST dataset (all 4 files) from http://yann.lecun.com/exdb/mnist/ under `lab-03-data/part2`.\n",
    "You can then use the script provided below to extract and load training and testing images in Python. \n",
    "\n",
    "**! Warning**: When the lab was created the official MNIST repo was down, if it is still the case please use https://github.com/mkolod/MNIST."
   ]
  },
  {
   "cell_type": "markdown",
   "metadata": {},
   "source": [
    "### 2.1 Dataset loading\n",
    "Here we first declare the methods `extract_data` and `extract_labels` so that we can reuse them later in the code.\n",
    "Then we extract both the data and corresponding labels, and plot randomly some images and corresponding labels of the training set."
   ]
  },
  {
   "cell_type": "code",
   "execution_count": 21,
   "metadata": {},
   "outputs": [],
   "source": [
    "import gzip\n",
    "import numpy as np\n",
    "import matplotlib.pyplot as plt\n",
    "import os\n",
    "\n",
    "def extract_data(filename, image_shape, image_number):\n",
    "    with gzip.open(filename) as bytestream:\n",
    "        bytestream.read(16)\n",
    "        buf = bytestream.read(np.prod(image_shape) * image_number)\n",
    "        data = np.frombuffer(buf, dtype=np.uint8).astype(np.float32)\n",
    "        data = data.reshape(image_number, image_shape[0], image_shape[1])\n",
    "    return data\n",
    "\n",
    "\n",
    "def extract_labels(filename, image_number):\n",
    "    with gzip.open(filename) as bytestream:\n",
    "        bytestream.read(8)\n",
    "        buf = bytestream.read(1 * image_number)\n",
    "        labels = np.frombuffer(buf, dtype=np.uint8).astype(np.int64)\n",
    "    return labels"
   ]
  },
  {
   "cell_type": "code",
   "execution_count": 22,
   "metadata": {},
   "outputs": [],
   "source": [
    "image_shape = (28, 28)\n",
    "train_set_size = 60000\n",
    "test_set_size = 10000\n",
    "\n",
    "data_part2_folder = os.path.join(data_base_path, data_folder, 'part2')\n",
    "\n",
    "train_images_path = os.path.join(data_part2_folder, 'train-images-idx3-ubyte.gz')\n",
    "train_labels_path = os.path.join(data_part2_folder, 'train-labels-idx1-ubyte.gz')\n",
    "test_images_path = os.path.join(data_part2_folder, 't10k-images-idx3-ubyte.gz')\n",
    "test_labels_path = os.path.join(data_part2_folder, 't10k-labels-idx1-ubyte.gz')\n",
    "\n",
    "train_images =extract_data(train_images_path, image_shape, train_set_size)\n",
    "test_images =extract_data(test_images_path, image_shape, test_set_size)\n",
    "train_labels = extract_labels(train_labels_path, train_set_size)\n",
    "test_labels = extract_labels(test_labels_path, test_set_size)\n",
    "\n"
   ]
  },
  {
   "cell_type": "code",
   "execution_count": 23,
   "metadata": {},
   "outputs": [
    {
     "output_type": "display_data",
     "data": {
      "text/plain": "<Figure size 864x216 with 10 Axes>",
      "image/svg+xml": "<?xml version=\"1.0\" encoding=\"utf-8\" standalone=\"no\"?>\n<!DOCTYPE svg PUBLIC \"-//W3C//DTD SVG 1.1//EN\"\n  \"http://www.w3.org/Graphics/SVG/1.1/DTD/svg11.dtd\">\n<!-- Created with matplotlib (https://matplotlib.org/) -->\n<svg height=\"86.263888pt\" version=\"1.1\" viewBox=\"0 0 684 86.263888\" width=\"684pt\" xmlns=\"http://www.w3.org/2000/svg\" xmlns:xlink=\"http://www.w3.org/1999/xlink\">\n <metadata>\n  <rdf:RDF xmlns:cc=\"http://creativecommons.org/ns#\" xmlns:dc=\"http://purl.org/dc/elements/1.1/\" xmlns:rdf=\"http://www.w3.org/1999/02/22-rdf-syntax-ns#\">\n   <cc:Work>\n    <dc:type rdf:resource=\"http://purl.org/dc/dcmitype/StillImage\"/>\n    <dc:date>2021-05-04T14:41:10.122225</dc:date>\n    <dc:format>image/svg+xml</dc:format>\n    <dc:creator>\n     <cc:Agent>\n      <dc:title>Matplotlib v3.3.2, https://matplotlib.org/</dc:title>\n     </cc:Agent>\n    </dc:creator>\n   </cc:Work>\n  </rdf:RDF>\n </metadata>\n <defs>\n  <style type=\"text/css\">*{stroke-linecap:butt;stroke-linejoin:round;}</style>\n </defs>\n <g id=\"figure_1\">\n  <g id=\"patch_1\">\n   <path d=\"M 0 86.263888 \nL 684 86.263888 \nL 684 0 \nL 0 0 \nz\n\" style=\"fill:none;\"/>\n  </g>\n  <g id=\"axes_1\">\n   <g clip-path=\"url(#p5f878b65e3)\">\n    <image height=\"57\" id=\"image23bdc67217\" transform=\"scale(1 -1)translate(0 -57)\" width=\"57\" x=\"7.2\" xlink:href=\"data:image/png;base64,\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\" y=\"-22.063888\"/>\n   </g>\n   <g id=\"text_1\">\n    <!-- 8 -->\n    <g transform=\"translate(31.755381 16.318125)scale(0.12 -0.12)\">\n     <defs>\n      <path d=\"M 31.78125 34.625 \nQ 24.75 34.625 20.71875 30.859375 \nQ 16.703125 27.09375 16.703125 20.515625 \nQ 16.703125 13.921875 20.71875 10.15625 \nQ 24.75 6.390625 31.78125 6.390625 \nQ 38.8125 6.390625 42.859375 10.171875 \nQ 46.921875 13.96875 46.921875 20.515625 \nQ 46.921875 27.09375 42.890625 30.859375 \nQ 38.875 34.625 31.78125 34.625 \nz\nM 21.921875 38.8125 \nQ 15.578125 40.375 12.03125 44.71875 \nQ 8.5 49.078125 8.5 55.328125 \nQ 8.5 64.0625 14.71875 69.140625 \nQ 20.953125 74.21875 31.78125 74.21875 \nQ 42.671875 74.21875 48.875 69.140625 \nQ 55.078125 64.0625 55.078125 55.328125 \nQ 55.078125 49.078125 51.53125 44.71875 \nQ 48 40.375 41.703125 38.8125 \nQ 48.828125 37.15625 52.796875 32.3125 \nQ 56.78125 27.484375 56.78125 20.515625 \nQ 56.78125 9.90625 50.3125 4.234375 \nQ 43.84375 -1.421875 31.78125 -1.421875 \nQ 19.734375 -1.421875 13.25 4.234375 \nQ 6.78125 9.90625 6.78125 20.515625 \nQ 6.78125 27.484375 10.78125 32.3125 \nQ 14.796875 37.15625 21.921875 38.8125 \nz\nM 18.3125 54.390625 \nQ 18.3125 48.734375 21.84375 45.5625 \nQ 25.390625 42.390625 31.78125 42.390625 \nQ 38.140625 42.390625 41.71875 45.5625 \nQ 45.3125 48.734375 45.3125 54.390625 \nQ 45.3125 60.0625 41.71875 63.234375 \nQ 38.140625 66.40625 31.78125 66.40625 \nQ 25.390625 66.40625 21.84375 63.234375 \nQ 18.3125 60.0625 18.3125 54.390625 \nz\n\" id=\"DejaVuSans-56\"/>\n     </defs>\n     <use xlink:href=\"#DejaVuSans-56\"/>\n    </g>\n   </g>\n  </g>\n  <g id=\"axes_2\">\n   <g clip-path=\"url(#p9cbf5a1233)\">\n    <image height=\"57\" id=\"imageb9b5428b3a\" transform=\"scale(1 -1)translate(0 -57)\" width=\"57\" x=\"75.294915\" xlink:href=\"data:image/png;base64,\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\" y=\"-22.063888\"/>\n   </g>\n   <g id=\"text_2\">\n    <!-- 6 -->\n    <g transform=\"translate(99.850297 16.318125)scale(0.12 -0.12)\">\n     <defs>\n      <path d=\"M 33.015625 40.375 \nQ 26.375 40.375 22.484375 35.828125 \nQ 18.609375 31.296875 18.609375 23.390625 \nQ 18.609375 15.53125 22.484375 10.953125 \nQ 26.375 6.390625 33.015625 6.390625 \nQ 39.65625 6.390625 43.53125 10.953125 \nQ 47.40625 15.53125 47.40625 23.390625 \nQ 47.40625 31.296875 43.53125 35.828125 \nQ 39.65625 40.375 33.015625 40.375 \nz\nM 52.59375 71.296875 \nL 52.59375 62.3125 \nQ 48.875 64.0625 45.09375 64.984375 \nQ 41.3125 65.921875 37.59375 65.921875 \nQ 27.828125 65.921875 22.671875 59.328125 \nQ 17.53125 52.734375 16.796875 39.40625 \nQ 19.671875 43.65625 24.015625 45.921875 \nQ 28.375 48.1875 33.59375 48.1875 \nQ 44.578125 48.1875 50.953125 41.515625 \nQ 57.328125 34.859375 57.328125 23.390625 \nQ 57.328125 12.15625 50.6875 5.359375 \nQ 44.046875 -1.421875 33.015625 -1.421875 \nQ 20.359375 -1.421875 13.671875 8.265625 \nQ 6.984375 17.96875 6.984375 36.375 \nQ 6.984375 53.65625 15.1875 63.9375 \nQ 23.390625 74.21875 37.203125 74.21875 \nQ 40.921875 74.21875 44.703125 73.484375 \nQ 48.484375 72.75 52.59375 71.296875 \nz\n\" id=\"DejaVuSans-54\"/>\n     </defs>\n     <use xlink:href=\"#DejaVuSans-54\"/>\n    </g>\n   </g>\n  </g>\n  <g id=\"axes_3\">\n   <g clip-path=\"url(#p42562f74d9)\">\n    <image height=\"57\" id=\"imagea51bfff9e5\" transform=\"scale(1 -1)translate(0 -57)\" width=\"57\" x=\"143.389831\" xlink:href=\"data:image/png;base64,\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\" y=\"-22.063888\"/>\n   </g>\n   <g id=\"text_3\">\n    <!-- 3 -->\n    <g transform=\"translate(167.945212 16.318125)scale(0.12 -0.12)\">\n     <defs>\n      <path d=\"M 40.578125 39.3125 \nQ 47.65625 37.796875 51.625 33 \nQ 55.609375 28.21875 55.609375 21.1875 \nQ 55.609375 10.40625 48.1875 4.484375 \nQ 40.765625 -1.421875 27.09375 -1.421875 \nQ 22.515625 -1.421875 17.65625 -0.515625 \nQ 12.796875 0.390625 7.625 2.203125 \nL 7.625 11.71875 \nQ 11.71875 9.328125 16.59375 8.109375 \nQ 21.484375 6.890625 26.8125 6.890625 \nQ 36.078125 6.890625 40.9375 10.546875 \nQ 45.796875 14.203125 45.796875 21.1875 \nQ 45.796875 27.640625 41.28125 31.265625 \nQ 36.765625 34.90625 28.71875 34.90625 \nL 20.21875 34.90625 \nL 20.21875 43.015625 \nL 29.109375 43.015625 \nQ 36.375 43.015625 40.234375 45.921875 \nQ 44.09375 48.828125 44.09375 54.296875 \nQ 44.09375 59.90625 40.109375 62.90625 \nQ 36.140625 65.921875 28.71875 65.921875 \nQ 24.65625 65.921875 20.015625 65.03125 \nQ 15.375 64.15625 9.8125 62.3125 \nL 9.8125 71.09375 \nQ 15.4375 72.65625 20.34375 73.4375 \nQ 25.25 74.21875 29.59375 74.21875 \nQ 40.828125 74.21875 47.359375 69.109375 \nQ 53.90625 64.015625 53.90625 55.328125 \nQ 53.90625 49.265625 50.4375 45.09375 \nQ 46.96875 40.921875 40.578125 39.3125 \nz\n\" id=\"DejaVuSans-51\"/>\n     </defs>\n     <use xlink:href=\"#DejaVuSans-51\"/>\n    </g>\n   </g>\n  </g>\n  <g id=\"axes_4\">\n   <g clip-path=\"url(#p8769aa526c)\">\n    <image height=\"57\" id=\"image68e2d56f2a\" transform=\"scale(1 -1)translate(0 -57)\" width=\"57\" x=\"211.484746\" xlink:href=\"data:image/png;base64,\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\" y=\"-22.063888\"/>\n   </g>\n   <g id=\"text_4\">\n    <!-- 2 -->\n    <g transform=\"translate(236.040127 16.318125)scale(0.12 -0.12)\">\n     <defs>\n      <path d=\"M 19.1875 8.296875 \nL 53.609375 8.296875 \nL 53.609375 0 \nL 7.328125 0 \nL 7.328125 8.296875 \nQ 12.9375 14.109375 22.625 23.890625 \nQ 32.328125 33.6875 34.8125 36.53125 \nQ 39.546875 41.84375 41.421875 45.53125 \nQ 43.3125 49.21875 43.3125 52.78125 \nQ 43.3125 58.59375 39.234375 62.25 \nQ 35.15625 65.921875 28.609375 65.921875 \nQ 23.96875 65.921875 18.8125 64.3125 \nQ 13.671875 62.703125 7.8125 59.421875 \nL 7.8125 69.390625 \nQ 13.765625 71.78125 18.9375 73 \nQ 24.125 74.21875 28.421875 74.21875 \nQ 39.75 74.21875 46.484375 68.546875 \nQ 53.21875 62.890625 53.21875 53.421875 \nQ 53.21875 48.921875 51.53125 44.890625 \nQ 49.859375 40.875 45.40625 35.40625 \nQ 44.1875 33.984375 37.640625 27.21875 \nQ 31.109375 20.453125 19.1875 8.296875 \nz\n\" id=\"DejaVuSans-50\"/>\n     </defs>\n     <use xlink:href=\"#DejaVuSans-50\"/>\n    </g>\n   </g>\n  </g>\n  <g id=\"axes_5\">\n   <g clip-path=\"url(#pb36d776594)\">\n    <image height=\"57\" id=\"imagedd4ce1cfda\" transform=\"scale(1 -1)translate(0 -57)\" width=\"57\" x=\"279.579661\" xlink:href=\"data:image/png;base64,\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\" y=\"-22.063888\"/>\n   </g>\n   <g id=\"text_5\">\n    <!-- 2 -->\n    <g transform=\"translate(304.135042 16.318125)scale(0.12 -0.12)\">\n     <use xlink:href=\"#DejaVuSans-50\"/>\n    </g>\n   </g>\n  </g>\n  <g id=\"axes_6\">\n   <g clip-path=\"url(#pfa64095253)\">\n    <image height=\"57\" id=\"imageefbf81dfc5\" transform=\"scale(1 -1)translate(0 -57)\" width=\"57\" x=\"347.674576\" xlink:href=\"data:image/png;base64,\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\" y=\"-22.063888\"/>\n   </g>\n   <g id=\"text_6\">\n    <!-- 9 -->\n    <g transform=\"translate(372.229958 16.318125)scale(0.12 -0.12)\">\n     <defs>\n      <path d=\"M 10.984375 1.515625 \nL 10.984375 10.5 \nQ 14.703125 8.734375 18.5 7.8125 \nQ 22.3125 6.890625 25.984375 6.890625 \nQ 35.75 6.890625 40.890625 13.453125 \nQ 46.046875 20.015625 46.78125 33.40625 \nQ 43.953125 29.203125 39.59375 26.953125 \nQ 35.25 24.703125 29.984375 24.703125 \nQ 19.046875 24.703125 12.671875 31.3125 \nQ 6.296875 37.9375 6.296875 49.421875 \nQ 6.296875 60.640625 12.9375 67.421875 \nQ 19.578125 74.21875 30.609375 74.21875 \nQ 43.265625 74.21875 49.921875 64.515625 \nQ 56.59375 54.828125 56.59375 36.375 \nQ 56.59375 19.140625 48.40625 8.859375 \nQ 40.234375 -1.421875 26.421875 -1.421875 \nQ 22.703125 -1.421875 18.890625 -0.6875 \nQ 15.09375 0.046875 10.984375 1.515625 \nz\nM 30.609375 32.421875 \nQ 37.25 32.421875 41.125 36.953125 \nQ 45.015625 41.5 45.015625 49.421875 \nQ 45.015625 57.28125 41.125 61.84375 \nQ 37.25 66.40625 30.609375 66.40625 \nQ 23.96875 66.40625 20.09375 61.84375 \nQ 16.21875 57.28125 16.21875 49.421875 \nQ 16.21875 41.5 20.09375 36.953125 \nQ 23.96875 32.421875 30.609375 32.421875 \nz\n\" id=\"DejaVuSans-57\"/>\n     </defs>\n     <use xlink:href=\"#DejaVuSans-57\"/>\n    </g>\n   </g>\n  </g>\n  <g id=\"axes_7\">\n   <g clip-path=\"url(#p458419d3e6)\">\n    <image height=\"57\" id=\"image2e9a685863\" transform=\"scale(1 -1)translate(0 -57)\" width=\"57\" x=\"415.769492\" xlink:href=\"data:image/png;base64,\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\" y=\"-22.063888\"/>\n   </g>\n   <g id=\"text_7\">\n    <!-- 3 -->\n    <g transform=\"translate(440.324873 16.318125)scale(0.12 -0.12)\">\n     <use xlink:href=\"#DejaVuSans-51\"/>\n    </g>\n   </g>\n  </g>\n  <g id=\"axes_8\">\n   <g clip-path=\"url(#pb1b86c3d6c)\">\n    <image height=\"57\" id=\"imagecdcb37fcb8\" transform=\"scale(1 -1)translate(0 -57)\" width=\"57\" x=\"483.864407\" xlink:href=\"data:image/png;base64,\niVBORw0KGgoAAAANSUhEUgAAADkAAAA5CAYAAACMGIOFAAACb0lEQVR4nO2aXUvyYBiAr6dtQnpgpYJJIXSWI0Z/QPAHeNqP7Hd0GB4U9oGgLJhabVhzMzA/3qNG7xudvc8tzF3gwY4uL+ae3W6PAtaknJ1NfwEJssi0kEWmha2INKVElmVhmiaWZWFZFovFgvl8zmKx4PPzU6tbLNJxHM7Ozjg/P8dxHG5ubuh0Otze3nJ9fa3VLRa5t7dHvV7HcRyazSZKKYIgwPM87e6tuCY3Frler1kul6xWK+2ujUW+vr5yd3fHeDzW7tpY5Gw24/n5mSiKtLvEFp5/8X2fh4cHPj4+tLs2FhnHMb7vi7iy1fW/inZ2MAwDpZSUMkHs53p6ekq73aZarUopE8Qia7UajuNI6f4iuybTQhaZFrLItJBFpgXtw8D+/j7FYpFisahb9SvaI0ulEkdHR+mOnEwmrFYrwjDUrfoV7ZFBEBAEAW9vb7pVv7IVC89WRIr91QrDkOFwmBxPp1MptVyk7/v0er3kOAgCKbVcpOd5dDodoigiiiIeHx+l1HKR9/f3xHGM67q4rivy5PwLscjpdMpoNCIMQ5bLpZQWAIXgFhelFOu1/I4asTN5cnLC8fExcRwzm83wfZ+XlxcRt1hkq9Xi4uIC13V5enri6upKLFJsGDAMg1wul7xWl3zIvBUTj/bIfD7PwcFB8tnd3dWt/IH2yGq1SqPRwLZtbNumUqnoVv5A5ExWKhUKhQKGYfD+/s5gMGAymehWJ2hfXQ8PD7Ftm3K5DEC32+Xy8lL73p3vaI8MwxDP8+h2uyil6Pf7Im+Xv6N94snlcpimmdw+voYBSUTHuk2R3SfTQhaZFrLItPAHLanZq5Z7gskAAAAASUVORK5CYII=\" y=\"-22.063888\"/>\n   </g>\n   <g id=\"text_8\">\n    <!-- 1 -->\n    <g transform=\"translate(508.419788 16.318125)scale(0.12 -0.12)\">\n     <defs>\n      <path d=\"M 12.40625 8.296875 \nL 28.515625 8.296875 \nL 28.515625 63.921875 \nL 10.984375 60.40625 \nL 10.984375 69.390625 \nL 28.421875 72.90625 \nL 38.28125 72.90625 \nL 38.28125 8.296875 \nL 54.390625 8.296875 \nL 54.390625 0 \nL 12.40625 0 \nz\n\" id=\"DejaVuSans-49\"/>\n     </defs>\n     <use xlink:href=\"#DejaVuSans-49\"/>\n    </g>\n   </g>\n  </g>\n  <g id=\"axes_9\">\n   <g clip-path=\"url(#pbf82486977)\">\n    <image height=\"57\" id=\"imageea0a68aca9\" transform=\"scale(1 -1)translate(0 -57)\" width=\"57\" x=\"551.959322\" xlink:href=\"data:image/png;base64,\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\" y=\"-22.063888\"/>\n   </g>\n   <g id=\"text_9\">\n    <!-- 2 -->\n    <g transform=\"translate(576.514703 16.318125)scale(0.12 -0.12)\">\n     <use xlink:href=\"#DejaVuSans-50\"/>\n    </g>\n   </g>\n  </g>\n  <g id=\"axes_10\">\n   <g clip-path=\"url(#pb93de993c6)\">\n    <image height=\"57\" id=\"imageb94bca72f2\" transform=\"scale(1 -1)translate(0 -57)\" width=\"57\" x=\"620.054237\" xlink:href=\"data:image/png;base64,\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\" y=\"-22.063888\"/>\n   </g>\n   <g id=\"text_10\">\n    <!-- 3 -->\n    <g transform=\"translate(644.609619 16.318125)scale(0.12 -0.12)\">\n     <use xlink:href=\"#DejaVuSans-51\"/>\n    </g>\n   </g>\n  </g>\n </g>\n <defs>\n  <clipPath id=\"p5f878b65e3\">\n   <rect height=\"56.745763\" width=\"56.745763\" x=\"7.2\" y=\"22.318125\"/>\n  </clipPath>\n  <clipPath id=\"p9cbf5a1233\">\n   <rect height=\"56.745763\" width=\"56.745763\" x=\"75.294915\" y=\"22.318125\"/>\n  </clipPath>\n  <clipPath id=\"p42562f74d9\">\n   <rect height=\"56.745763\" width=\"56.745763\" x=\"143.389831\" y=\"22.318125\"/>\n  </clipPath>\n  <clipPath id=\"p8769aa526c\">\n   <rect height=\"56.745763\" width=\"56.745763\" x=\"211.484746\" y=\"22.318125\"/>\n  </clipPath>\n  <clipPath id=\"pb36d776594\">\n   <rect height=\"56.745763\" width=\"56.745763\" x=\"279.579661\" y=\"22.318125\"/>\n  </clipPath>\n  <clipPath id=\"pfa64095253\">\n   <rect height=\"56.745763\" width=\"56.745763\" x=\"347.674576\" y=\"22.318125\"/>\n  </clipPath>\n  <clipPath id=\"p458419d3e6\">\n   <rect height=\"56.745763\" width=\"56.745763\" x=\"415.769492\" y=\"22.318125\"/>\n  </clipPath>\n  <clipPath id=\"pb1b86c3d6c\">\n   <rect height=\"56.745763\" width=\"56.745763\" x=\"483.864407\" y=\"22.318125\"/>\n  </clipPath>\n  <clipPath id=\"pbf82486977\">\n   <rect height=\"56.745763\" width=\"56.745763\" x=\"551.959322\" y=\"22.318125\"/>\n  </clipPath>\n  <clipPath id=\"pb93de993c6\">\n   <rect height=\"56.745763\" width=\"56.745763\" x=\"620.054237\" y=\"22.318125\"/>\n  </clipPath>\n </defs>\n</svg>\n",
      "image/png": "[encoded data removed]"
     },
     "metadata": {
      "needs_background": "light"
     }
    }
   ],
   "source": [
    "prng = np.random.RandomState(seed=123456789)  # seed to always re-draw the same distribution\n",
    "plt_ind = prng.randint(low=0, high=train_set_size, size=10)\n",
    "\n",
    "fig, axes = plt.subplots(1, 10, figsize=(12, 3))\n",
    "for ax, im, lb in zip(axes, train_images[plt_ind], train_labels[plt_ind]):\n",
    "    ax.imshow(im, cmap='gray')\n",
    "    ax.axis('off')\n",
    "    ax.set_title(lb)"
   ]
  },
  {
   "cell_type": "markdown",
   "metadata": {},
   "source": [
    "### 2.2 MLP (10 pts)\n",
    "\n",
    "To create an MLP you are free to choose any library.\n",
    "In case you don't have any preferences, we encourage you to use the [scikit-learn] package; it is a simple, efficient and free tool for data analysis and machine learning.\n",
    "In this [link][sklearn-example], you can find a basic example to see how to create and train an MLP using [scikit-learn].\n",
    "Your network should have the following properties:\n",
    "* Input `x`: 784-dimensional (i.e. 784 visible units representing the flattened 28x28 pixel images).\n",
    "* 100 hidden units `h`.\n",
    "* 10 output units `y`, i.e. the labels, with a value close to one in the i-th class representing a high probability of the input representing the digit `i`.\n",
    "\n",
    "If you need additional examples you can borrow some code from image classification tutorials.\n",
    "However, we recommend that you construct a minimal version of the network on your own to gain better insights.\n",
    "\n",
    "[scikit-learn]: http://scikit-learn.org/stable/index.html\n",
    "[sklearn-example]: http://scikit-learn.org/stable/modules/neural_networks_supervised.html"
   ]
  },
  {
   "cell_type": "code",
   "execution_count": 24,
   "metadata": {},
   "outputs": [],
   "source": [
    "import torch\n",
    "import torch.nn as nn\n",
    "import torch.nn.functional as F\n",
    "from torch import optim \n",
    "from torchvision import datasets"
   ]
  },
  {
   "cell_type": "code",
   "execution_count": 25,
   "metadata": {},
   "outputs": [],
   "source": [
    "def convert_to_one_hot_labels(input, target):\n",
    "    tmp = input.new_zeros(target.size(0), target.max() + 1)\n",
    "    tmp.scatter_(1, target.view(-1, 1), 1.0)\n",
    "    return tmp"
   ]
  },
  {
   "cell_type": "code",
   "execution_count": 26,
   "metadata": {},
   "outputs": [],
   "source": [
    "train_input =torch.tensor(extract_data(train_images_path, image_shape, train_set_size)).view(-1,1,28,28).float()\n",
    "test_input =torch.tensor(extract_data(test_images_path, image_shape, test_set_size)).view(-1,1,28,28).float()\n",
    "train_target = torch.tensor(extract_labels(train_labels_path, train_set_size))\n",
    "test_target = torch.tensor(extract_labels(test_labels_path, test_set_size))\n",
    "\n",
    "train_target=convert_to_one_hot_labels(train_input, train_target)\n",
    "test_target=convert_to_one_hot_labels(test_input, test_target)\n",
    "\n",
    "# Normalization of th data \n",
    "mu, std = train_input.mean(), train_input.std();\n",
    "train_input.sub_(mu).div_(std);\n",
    "test_input.sub_(mu).div_(std);"
   ]
  },
  {
   "cell_type": "code",
   "execution_count": 27,
   "metadata": {},
   "outputs": [
    {
     "output_type": "stream",
     "name": "stdout",
     "text": [
      "0  Train error: 8.70%  Test error: 7.90% \n",
      "1  Train error: 6.86%  Test error: 6.23% \n",
      "2  Train error: 5.84%  Test error: 5.41% \n",
      "3  Train error: 5.19%  Test error: 5.10% \n",
      "4  Train error: 4.78%  Test error: 4.92% \n",
      "5  Train error: 4.46%  Test error: 4.72% \n",
      "6  Train error: 4.20%  Test error: 4.62% \n",
      "7  Train error: 4.01%  Test error: 4.51% \n",
      "8  Train error: 3.85%  Test error: 4.32% \n",
      "9  Train error: 3.69%  Test error: 4.11% \n",
      "10  Train error: 3.54%  Test error: 4.03% \n",
      "11  Train error: 3.46%  Test error: 3.95% \n",
      "12  Train error: 3.37%  Test error: 3.86% \n",
      "13  Train error: 3.28%  Test error: 3.77% \n",
      "14  Train error: 3.18%  Test error: 3.72% \n",
      "15  Train error: 3.10%  Test error: 3.65% \n",
      "16  Train error: 3.05%  Test error: 3.50% \n",
      "17  Train error: 2.99%  Test error: 3.43% \n",
      "18  Train error: 2.94%  Test error: 3.36% \n",
      "19  Train error: 2.88%  Test error: 3.33% \n",
      "20  Train error: 2.82%  Test error: 3.30% \n",
      "21  Train error: 2.78%  Test error: 3.35% \n",
      "22  Train error: 2.75%  Test error: 3.33% \n",
      "23  Train error: 2.70%  Test error: 3.27% \n",
      "24  Train error: 2.67%  Test error: 3.28% \n",
      "25  Train error: 2.62%  Test error: 3.24% \n",
      "26  Train error: 2.59%  Test error: 3.22% \n",
      "27  Train error: 2.56%  Test error: 3.22% \n",
      "28  Train error: 2.54%  Test error: 3.19% \n",
      "29  Train error: 2.51%  Test error: 3.21% \n",
      "30  Train error: 2.48%  Test error: 3.18% \n",
      "31  Train error: 2.44%  Test error: 3.17% \n",
      "32  Train error: 2.42%  Test error: 3.14% \n",
      "33  Train error: 2.38%  Test error: 3.10% \n",
      "34  Train error: 2.37%  Test error: 3.09% \n",
      "35  Train error: 2.34%  Test error: 3.08% \n",
      "36  Train error: 2.33%  Test error: 3.03% \n",
      "37  Train error: 2.32%  Test error: 3.01% \n",
      "38  Train error: 2.30%  Test error: 3.00% \n",
      "39  Train error: 2.29%  Test error: 3.01% \n",
      "40  Train error: 2.27%  Test error: 2.97% \n",
      "41  Train error: 2.25%  Test error: 2.94% \n",
      "42  Train error: 2.24%  Test error: 2.90% \n",
      "43  Train error: 2.22%  Test error: 2.91% \n",
      "44  Train error: 2.20%  Test error: 2.90% \n",
      "45  Train error: 2.18%  Test error: 2.88% \n",
      "46  Train error: 2.15%  Test error: 2.87% \n",
      "47  Train error: 2.12%  Test error: 2.83% \n",
      "48  Train error: 2.10%  Test error: 2.83% \n",
      "49  Train error: 2.07%  Test error: 2.80% \n",
      "50  Train error: 2.06%  Test error: 2.77% \n",
      "51  Train error: 2.04%  Test error: 2.79% \n",
      "52  Train error: 2.02%  Test error: 2.77% \n",
      "53  Train error: 2.00%  Test error: 2.79% \n",
      "54  Train error: 1.99%  Test error: 2.78% \n",
      "55  Train error: 1.97%  Test error: 2.80% \n",
      "56  Train error: 1.97%  Test error: 2.77% \n",
      "57  Train error: 1.96%  Test error: 2.79% \n",
      "58  Train error: 1.94%  Test error: 2.80% \n",
      "59  Train error: 1.93%  Test error: 2.79% \n",
      "60  Train error: 1.92%  Test error: 2.78% \n",
      "61  Train error: 1.90%  Test error: 2.77% \n",
      "62  Train error: 1.90%  Test error: 2.77% \n",
      "63  Train error: 1.88%  Test error: 2.79% \n",
      "64  Train error: 1.87%  Test error: 2.79% \n",
      "65  Train error: 1.86%  Test error: 2.79% \n",
      "66  Train error: 1.85%  Test error: 2.80% \n",
      "67  Train error: 1.83%  Test error: 2.80% \n",
      "68  Train error: 1.82%  Test error: 2.78% \n",
      "69  Train error: 1.80%  Test error: 2.80% \n",
      "70  Train error: 1.80%  Test error: 2.79% \n",
      "71  Train error: 1.78%  Test error: 2.79% \n",
      "72  Train error: 1.76%  Test error: 2.76% \n",
      "73  Train error: 1.75%  Test error: 2.75% \n",
      "74  Train error: 1.73%  Test error: 2.74% \n",
      "75  Train error: 1.73%  Test error: 2.74% \n",
      "76  Train error: 1.72%  Test error: 2.73% \n",
      "77  Train error: 1.71%  Test error: 2.71% \n",
      "78  Train error: 1.70%  Test error: 2.72% \n",
      "79  Train error: 1.68%  Test error: 2.72% \n",
      "80  Train error: 1.68%  Test error: 2.74% \n",
      "81  Train error: 1.67%  Test error: 2.72% \n",
      "82  Train error: 1.67%  Test error: 2.71% \n",
      "83  Train error: 1.66%  Test error: 2.71% \n",
      "84  Train error: 1.65%  Test error: 2.73% \n",
      "85  Train error: 1.64%  Test error: 2.73% \n",
      "86  Train error: 1.62%  Test error: 2.72% \n",
      "87  Train error: 1.62%  Test error: 2.71% \n",
      "88  Train error: 1.61%  Test error: 2.68% \n",
      "89  Train error: 1.60%  Test error: 2.69% \n",
      "90  Train error: 1.59%  Test error: 2.68% \n",
      "91  Train error: 1.58%  Test error: 2.69% \n",
      "92  Train error: 1.57%  Test error: 2.67% \n",
      "93  Train error: 1.56%  Test error: 2.69% \n",
      "94  Train error: 1.55%  Test error: 2.68% \n",
      "95  Train error: 1.55%  Test error: 2.69% \n",
      "96  Train error: 1.54%  Test error: 2.68% \n",
      "97  Train error: 1.53%  Test error: 2.65% \n",
      "98  Train error: 1.53%  Test error: 2.64% \n",
      "99  Train error: 1.52%  Test error: 2.64% \n"
     ]
    }
   ],
   "source": [
    "class MLP(nn.Module):\n",
    "    def __init__(self, nb_hidden):\n",
    "        super().__init__()\n",
    "        self.fc1 = nn.Linear(28*28, nb_hidden)\n",
    "        self.fc2 = nn.Linear(nb_hidden, 10)\n",
    "\n",
    "    def forward(self, x):\n",
    "        x = F.relu(self.fc1(x.view(-1, 28*28)))\n",
    "        x = self.fc2(x)\n",
    "        return x\n",
    "\n",
    "\n",
    "######################################################################\n",
    "\n",
    "def train_model(model, train_input, train_target, mini_batch_size, nb_epochs = 100):\n",
    "    criterion = nn.MSELoss()\n",
    "    optimizer = optim.SGD(model.parameters(), lr = 1e-1)\n",
    "    \n",
    "    eta = 1e-1\n",
    "\n",
    "    for e in range(nb_epochs):\n",
    "        acc_loss = 0\n",
    "\n",
    "        for b in range(0, train_input.size(0), mini_batch_size):\n",
    "            output = model(train_input.narrow(0, b, mini_batch_size))\n",
    "            loss = criterion(output, train_target.narrow(0, b, mini_batch_size))\n",
    "            acc_loss = acc_loss + loss.item()\n",
    "            model.zero_grad()\n",
    "            loss.backward()\n",
    "            optimizer.step()\n",
    "  \n",
    "        nb_test_errors = compute_nb_errors(model, test_input, test_target, mini_batch_size)\n",
    "        nb_train_errors = compute_nb_errors(model, train_input, train_target, mini_batch_size)\n",
    "        print(e,' Train error: {:0.2f}%  Test error: {:0.2f}% '.format((100 * nb_train_errors) / train_input.size(0),\n",
    "                                                                    (100 * nb_test_errors) / test_input.size(0)))\n",
    "\n",
    "       # print('Epoch:', e ,'Auxiliary loss: {:f}'.format(acc_loss))\n",
    "\n",
    "def compute_nb_errors(model, input, target, mini_batch_size):\n",
    "    nb_errors = 0\n",
    "\n",
    "    for b in range(0, input.size(0), mini_batch_size):\n",
    "        output = model(input.narrow(0, b, mini_batch_size))\n",
    "        _, predicted_classes = output.max(1)\n",
    "        #print(predicted_classes)\n",
    "        for k in range(mini_batch_size):\n",
    "            if target[b + k, predicted_classes[k]] <= 0:\n",
    "                nb_errors = nb_errors + 1\n",
    "\n",
    "    return nb_errors\n",
    "\n",
    "######################################################################\n",
    "\n",
    "mini_batch_size = 100\n",
    "\n",
    "model = MLP(100)\n",
    "train_model(model, train_input, train_target, mini_batch_size)"
   ]
  },
  {
   "cell_type": "code",
   "execution_count": 28,
   "metadata": {},
   "outputs": [
    {
     "output_type": "error",
     "ename": "SyntaxError",
     "evalue": "invalid syntax (<ipython-input-28-8f96e1c83acc>, line 4)",
     "traceback": [
      "\u001b[0;36m  File \u001b[0;32m\"<ipython-input-28-8f96e1c83acc>\"\u001b[0;36m, line \u001b[0;32m4\u001b[0m\n\u001b[0;31m    print('Test error Net {:0.2f}% '.format((100 * nb_test_errors) / test_input.size(0),\u001b[0m\n\u001b[0m    ^\u001b[0m\n\u001b[0;31mSyntaxError\u001b[0m\u001b[0;31m:\u001b[0m invalid syntax\n"
     ]
    }
   ],
   "source": [
    "nb_test_errors = compute_nb_errors(model, test_input, test_target, mini_batch_size)\n",
    "nb_train_errors = compute_nb_errors(model, train_input, train_target, mini_batch_size)\n",
    "print('Train error Net {:0.2f}%'.format((100 * nb_train_errors) / train_input.size(0))\n",
    "print('Test error Net {:0.2f}% '.format((100 * nb_test_errors) / test_input.size(0),\n",
    "                                                  nb_test_errors, test_input.size(0)))"
   ]
  }
 ],
 "metadata": {
  "kernelspec": {
   "name": "python385jvsc74a57bd0dca0ade3e726a953b501b15e8e990130d2b7799f14cfd9f4271676035ebe5511",
   "display_name": "Python 3.8.5 64-bit ('base': conda)"
  },
  "language_info": {
   "codemirror_mode": {
    "name": "ipython",
    "version": 3
   },
   "file_extension": ".py",
   "mimetype": "text/x-python",
   "name": "python",
   "nbconvert_exporter": "python",
   "pygments_lexer": "ipython3",
   "version": "3.8.5"
  }
 },
 "nbformat": 4,
 "nbformat_minor": 2
}